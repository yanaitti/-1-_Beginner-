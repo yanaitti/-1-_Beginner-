{
 "cells": [
  {
   "cell_type": "code",
   "execution_count": 1,
   "metadata": {},
   "outputs": [],
   "source": [
    "import datetime\n",
    "import pandas as pd\n",
    "import numpy as np\n",
    "from matplotlib import pyplot as plt\n",
    "%matplotlib inline\n",
    "\n",
    "from sklearn.model_selection import cross_validate, GridSearchCV, train_test_split\n",
    "from sklearn.metrics import roc_auc_score\n",
    "\n",
    "from sklearn.linear_model import LogisticRegression\n",
    "from sklearn.tree import DecisionTreeClassifier\n",
    "from sklearn.ensemble import RandomForestClassifier\n",
    "from lightgbm import LGBMClassifier\n",
    "from xgboost import XGBClassifier\n",
    "from sklearn.svm import SVC\n",
    "\n",
    "from sklearn.preprocessing import StandardScaler, LabelEncoder\n",
    "from sklearn.tree import export_graphviz\n",
    "import pydotplus\n",
    "from IPython.display import Image\n"
   ]
  },
  {
   "cell_type": "code",
   "execution_count": 2,
   "metadata": {},
   "outputs": [],
   "source": [
    "train = pd.read_csv('train.csv', index_col=0)\n",
    "test = pd.read_csv('test.csv', index_col=0)\n",
    "sample = pd.read_csv('submit_sample.csv', header=None)"
   ]
  },
  {
   "cell_type": "code",
   "execution_count": 3,
   "metadata": {},
   "outputs": [
    {
     "data": {
      "text/html": [
       "<div>\n",
       "<style scoped>\n",
       "    .dataframe tbody tr th:only-of-type {\n",
       "        vertical-align: middle;\n",
       "    }\n",
       "\n",
       "    .dataframe tbody tr th {\n",
       "        vertical-align: top;\n",
       "    }\n",
       "\n",
       "    .dataframe thead th {\n",
       "        text-align: right;\n",
       "    }\n",
       "</style>\n",
       "<table border=\"1\" class=\"dataframe\">\n",
       "  <thead>\n",
       "    <tr style=\"text-align: right;\">\n",
       "      <th></th>\n",
       "      <th>age</th>\n",
       "      <th>job</th>\n",
       "      <th>marital</th>\n",
       "      <th>education</th>\n",
       "      <th>default</th>\n",
       "      <th>balance</th>\n",
       "      <th>housing</th>\n",
       "      <th>loan</th>\n",
       "      <th>contact</th>\n",
       "      <th>day</th>\n",
       "      <th>month</th>\n",
       "      <th>duration</th>\n",
       "      <th>campaign</th>\n",
       "      <th>pdays</th>\n",
       "      <th>previous</th>\n",
       "      <th>poutcome</th>\n",
       "      <th>y</th>\n",
       "    </tr>\n",
       "    <tr>\n",
       "      <th>id</th>\n",
       "      <th></th>\n",
       "      <th></th>\n",
       "      <th></th>\n",
       "      <th></th>\n",
       "      <th></th>\n",
       "      <th></th>\n",
       "      <th></th>\n",
       "      <th></th>\n",
       "      <th></th>\n",
       "      <th></th>\n",
       "      <th></th>\n",
       "      <th></th>\n",
       "      <th></th>\n",
       "      <th></th>\n",
       "      <th></th>\n",
       "      <th></th>\n",
       "      <th></th>\n",
       "    </tr>\n",
       "  </thead>\n",
       "  <tbody>\n",
       "    <tr>\n",
       "      <th>0</th>\n",
       "      <td>31</td>\n",
       "      <td>services</td>\n",
       "      <td>married</td>\n",
       "      <td>secondary</td>\n",
       "      <td>no</td>\n",
       "      <td>12294</td>\n",
       "      <td>yes</td>\n",
       "      <td>no</td>\n",
       "      <td>cellular</td>\n",
       "      <td>21</td>\n",
       "      <td>nov</td>\n",
       "      <td>101</td>\n",
       "      <td>3</td>\n",
       "      <td>498</td>\n",
       "      <td>0</td>\n",
       "      <td>other</td>\n",
       "      <td>0</td>\n",
       "    </tr>\n",
       "    <tr>\n",
       "      <th>1</th>\n",
       "      <td>29</td>\n",
       "      <td>entrepreneur</td>\n",
       "      <td>single</td>\n",
       "      <td>tertiary</td>\n",
       "      <td>no</td>\n",
       "      <td>43027</td>\n",
       "      <td>no</td>\n",
       "      <td>no</td>\n",
       "      <td>cellular</td>\n",
       "      <td>22</td>\n",
       "      <td>aug</td>\n",
       "      <td>158</td>\n",
       "      <td>2</td>\n",
       "      <td>702</td>\n",
       "      <td>0</td>\n",
       "      <td>unknown</td>\n",
       "      <td>1</td>\n",
       "    </tr>\n",
       "    <tr>\n",
       "      <th>2</th>\n",
       "      <td>35</td>\n",
       "      <td>management</td>\n",
       "      <td>married</td>\n",
       "      <td>tertiary</td>\n",
       "      <td>no</td>\n",
       "      <td>12252</td>\n",
       "      <td>yes</td>\n",
       "      <td>no</td>\n",
       "      <td>cellular</td>\n",
       "      <td>11</td>\n",
       "      <td>nov</td>\n",
       "      <td>351</td>\n",
       "      <td>1</td>\n",
       "      <td>826</td>\n",
       "      <td>0</td>\n",
       "      <td>failure</td>\n",
       "      <td>0</td>\n",
       "    </tr>\n",
       "    <tr>\n",
       "      <th>3</th>\n",
       "      <td>31</td>\n",
       "      <td>technician</td>\n",
       "      <td>married</td>\n",
       "      <td>secondary</td>\n",
       "      <td>no</td>\n",
       "      <td>99121</td>\n",
       "      <td>yes</td>\n",
       "      <td>yes</td>\n",
       "      <td>unknown</td>\n",
       "      <td>16</td>\n",
       "      <td>may</td>\n",
       "      <td>658</td>\n",
       "      <td>2</td>\n",
       "      <td>120</td>\n",
       "      <td>0</td>\n",
       "      <td>failure</td>\n",
       "      <td>0</td>\n",
       "    </tr>\n",
       "    <tr>\n",
       "      <th>4</th>\n",
       "      <td>48</td>\n",
       "      <td>unemployed</td>\n",
       "      <td>married</td>\n",
       "      <td>primary</td>\n",
       "      <td>no</td>\n",
       "      <td>42005</td>\n",
       "      <td>yes</td>\n",
       "      <td>no</td>\n",
       "      <td>telephone</td>\n",
       "      <td>3</td>\n",
       "      <td>apr</td>\n",
       "      <td>177</td>\n",
       "      <td>1</td>\n",
       "      <td>273</td>\n",
       "      <td>0</td>\n",
       "      <td>unknown</td>\n",
       "      <td>0</td>\n",
       "    </tr>\n",
       "    <tr>\n",
       "      <th>...</th>\n",
       "      <td>...</td>\n",
       "      <td>...</td>\n",
       "      <td>...</td>\n",
       "      <td>...</td>\n",
       "      <td>...</td>\n",
       "      <td>...</td>\n",
       "      <td>...</td>\n",
       "      <td>...</td>\n",
       "      <td>...</td>\n",
       "      <td>...</td>\n",
       "      <td>...</td>\n",
       "      <td>...</td>\n",
       "      <td>...</td>\n",
       "      <td>...</td>\n",
       "      <td>...</td>\n",
       "      <td>...</td>\n",
       "      <td>...</td>\n",
       "    </tr>\n",
       "    <tr>\n",
       "      <th>27095</th>\n",
       "      <td>37</td>\n",
       "      <td>blue-collar</td>\n",
       "      <td>married</td>\n",
       "      <td>secondary</td>\n",
       "      <td>no</td>\n",
       "      <td>26661</td>\n",
       "      <td>yes</td>\n",
       "      <td>no</td>\n",
       "      <td>cellular</td>\n",
       "      <td>27</td>\n",
       "      <td>may</td>\n",
       "      <td>345</td>\n",
       "      <td>4</td>\n",
       "      <td>425</td>\n",
       "      <td>0</td>\n",
       "      <td>unknown</td>\n",
       "      <td>0</td>\n",
       "    </tr>\n",
       "    <tr>\n",
       "      <th>27096</th>\n",
       "      <td>35</td>\n",
       "      <td>services</td>\n",
       "      <td>married</td>\n",
       "      <td>secondary</td>\n",
       "      <td>no</td>\n",
       "      <td>42150</td>\n",
       "      <td>yes</td>\n",
       "      <td>no</td>\n",
       "      <td>cellular</td>\n",
       "      <td>27</td>\n",
       "      <td>may</td>\n",
       "      <td>121</td>\n",
       "      <td>1</td>\n",
       "      <td>719</td>\n",
       "      <td>0</td>\n",
       "      <td>unknown</td>\n",
       "      <td>0</td>\n",
       "    </tr>\n",
       "    <tr>\n",
       "      <th>27097</th>\n",
       "      <td>35</td>\n",
       "      <td>services</td>\n",
       "      <td>married</td>\n",
       "      <td>unknown</td>\n",
       "      <td>no</td>\n",
       "      <td>34531</td>\n",
       "      <td>no</td>\n",
       "      <td>no</td>\n",
       "      <td>cellular</td>\n",
       "      <td>28</td>\n",
       "      <td>jun</td>\n",
       "      <td>177</td>\n",
       "      <td>2</td>\n",
       "      <td>121</td>\n",
       "      <td>0</td>\n",
       "      <td>unknown</td>\n",
       "      <td>0</td>\n",
       "    </tr>\n",
       "    <tr>\n",
       "      <th>27098</th>\n",
       "      <td>30</td>\n",
       "      <td>admin.</td>\n",
       "      <td>single</td>\n",
       "      <td>secondary</td>\n",
       "      <td>no</td>\n",
       "      <td>99621</td>\n",
       "      <td>yes</td>\n",
       "      <td>no</td>\n",
       "      <td>cellular</td>\n",
       "      <td>27</td>\n",
       "      <td>may</td>\n",
       "      <td>121</td>\n",
       "      <td>1</td>\n",
       "      <td>100</td>\n",
       "      <td>0</td>\n",
       "      <td>unknown</td>\n",
       "      <td>0</td>\n",
       "    </tr>\n",
       "    <tr>\n",
       "      <th>27099</th>\n",
       "      <td>34</td>\n",
       "      <td>management</td>\n",
       "      <td>married</td>\n",
       "      <td>tertiary</td>\n",
       "      <td>no</td>\n",
       "      <td>8657</td>\n",
       "      <td>yes</td>\n",
       "      <td>no</td>\n",
       "      <td>cellular</td>\n",
       "      <td>27</td>\n",
       "      <td>may</td>\n",
       "      <td>345</td>\n",
       "      <td>2</td>\n",
       "      <td>321</td>\n",
       "      <td>0</td>\n",
       "      <td>unknown</td>\n",
       "      <td>0</td>\n",
       "    </tr>\n",
       "  </tbody>\n",
       "</table>\n",
       "<p>27100 rows × 17 columns</p>\n",
       "</div>"
      ],
      "text/plain": [
       "       age           job  marital  education default  balance housing loan  \\\n",
       "id                                                                           \n",
       "0       31      services  married  secondary      no    12294     yes   no   \n",
       "1       29  entrepreneur   single   tertiary      no    43027      no   no   \n",
       "2       35    management  married   tertiary      no    12252     yes   no   \n",
       "3       31    technician  married  secondary      no    99121     yes  yes   \n",
       "4       48    unemployed  married    primary      no    42005     yes   no   \n",
       "...    ...           ...      ...        ...     ...      ...     ...  ...   \n",
       "27095   37   blue-collar  married  secondary      no    26661     yes   no   \n",
       "27096   35      services  married  secondary      no    42150     yes   no   \n",
       "27097   35      services  married    unknown      no    34531      no   no   \n",
       "27098   30        admin.   single  secondary      no    99621     yes   no   \n",
       "27099   34    management  married   tertiary      no     8657     yes   no   \n",
       "\n",
       "         contact  day month  duration  campaign  pdays  previous poutcome  y  \n",
       "id                                                                            \n",
       "0       cellular   21   nov       101         3    498         0    other  0  \n",
       "1       cellular   22   aug       158         2    702         0  unknown  1  \n",
       "2       cellular   11   nov       351         1    826         0  failure  0  \n",
       "3        unknown   16   may       658         2    120         0  failure  0  \n",
       "4      telephone    3   apr       177         1    273         0  unknown  0  \n",
       "...          ...  ...   ...       ...       ...    ...       ...      ... ..  \n",
       "27095   cellular   27   may       345         4    425         0  unknown  0  \n",
       "27096   cellular   27   may       121         1    719         0  unknown  0  \n",
       "27097   cellular   28   jun       177         2    121         0  unknown  0  \n",
       "27098   cellular   27   may       121         1    100         0  unknown  0  \n",
       "27099   cellular   27   may       345         2    321         0  unknown  0  \n",
       "\n",
       "[27100 rows x 17 columns]"
      ]
     },
     "execution_count": 3,
     "metadata": {},
     "output_type": "execute_result"
    }
   ],
   "source": [
    "train"
   ]
  },
  {
   "cell_type": "code",
   "execution_count": 4,
   "metadata": {},
   "outputs": [
    {
     "data": {
      "text/plain": [
       "['job',\n",
       " 'marital',\n",
       " 'education',\n",
       " 'default',\n",
       " 'housing',\n",
       " 'loan',\n",
       " 'contact',\n",
       " 'month',\n",
       " 'poutcome']"
      ]
     },
     "execution_count": 4,
     "metadata": {},
     "output_type": "execute_result"
    }
   ],
   "source": [
    "cols_o = train.select_dtypes(include=object).columns.tolist()\n",
    "cols_o"
   ]
  },
  {
   "cell_type": "code",
   "execution_count": 5,
   "metadata": {},
   "outputs": [
    {
     "data": {
      "text/plain": [
       "['age', 'balance', 'day', 'duration', 'campaign', 'pdays', 'previous', 'y']"
      ]
     },
     "execution_count": 5,
     "metadata": {},
     "output_type": "execute_result"
    }
   ],
   "source": [
    "cols_i = train.select_dtypes(exclude=object).columns.tolist()\n",
    "cols_i"
   ]
  },
  {
   "cell_type": "code",
   "execution_count": 6,
   "metadata": {},
   "outputs": [],
   "source": [
    "test['y'] = -999"
   ]
  },
  {
   "cell_type": "code",
   "execution_count": 7,
   "metadata": {},
   "outputs": [
    {
     "data": {
      "text/html": [
       "<div>\n",
       "<style scoped>\n",
       "    .dataframe tbody tr th:only-of-type {\n",
       "        vertical-align: middle;\n",
       "    }\n",
       "\n",
       "    .dataframe tbody tr th {\n",
       "        vertical-align: top;\n",
       "    }\n",
       "\n",
       "    .dataframe thead th {\n",
       "        text-align: right;\n",
       "    }\n",
       "</style>\n",
       "<table border=\"1\" class=\"dataframe\">\n",
       "  <thead>\n",
       "    <tr style=\"text-align: right;\">\n",
       "      <th></th>\n",
       "      <th>age</th>\n",
       "      <th>job</th>\n",
       "      <th>marital</th>\n",
       "      <th>education</th>\n",
       "      <th>default</th>\n",
       "      <th>balance</th>\n",
       "      <th>housing</th>\n",
       "      <th>loan</th>\n",
       "      <th>contact</th>\n",
       "      <th>day</th>\n",
       "      <th>month</th>\n",
       "      <th>duration</th>\n",
       "      <th>campaign</th>\n",
       "      <th>pdays</th>\n",
       "      <th>previous</th>\n",
       "      <th>poutcome</th>\n",
       "      <th>y</th>\n",
       "    </tr>\n",
       "    <tr>\n",
       "      <th>id</th>\n",
       "      <th></th>\n",
       "      <th></th>\n",
       "      <th></th>\n",
       "      <th></th>\n",
       "      <th></th>\n",
       "      <th></th>\n",
       "      <th></th>\n",
       "      <th></th>\n",
       "      <th></th>\n",
       "      <th></th>\n",
       "      <th></th>\n",
       "      <th></th>\n",
       "      <th></th>\n",
       "      <th></th>\n",
       "      <th></th>\n",
       "      <th></th>\n",
       "      <th></th>\n",
       "    </tr>\n",
       "  </thead>\n",
       "  <tbody>\n",
       "    <tr>\n",
       "      <th>0</th>\n",
       "      <td>31</td>\n",
       "      <td>services</td>\n",
       "      <td>married</td>\n",
       "      <td>secondary</td>\n",
       "      <td>no</td>\n",
       "      <td>12294</td>\n",
       "      <td>yes</td>\n",
       "      <td>no</td>\n",
       "      <td>cellular</td>\n",
       "      <td>21</td>\n",
       "      <td>nov</td>\n",
       "      <td>101</td>\n",
       "      <td>3</td>\n",
       "      <td>498</td>\n",
       "      <td>0</td>\n",
       "      <td>other</td>\n",
       "      <td>0</td>\n",
       "    </tr>\n",
       "    <tr>\n",
       "      <th>1</th>\n",
       "      <td>29</td>\n",
       "      <td>entrepreneur</td>\n",
       "      <td>single</td>\n",
       "      <td>tertiary</td>\n",
       "      <td>no</td>\n",
       "      <td>43027</td>\n",
       "      <td>no</td>\n",
       "      <td>no</td>\n",
       "      <td>cellular</td>\n",
       "      <td>22</td>\n",
       "      <td>aug</td>\n",
       "      <td>158</td>\n",
       "      <td>2</td>\n",
       "      <td>702</td>\n",
       "      <td>0</td>\n",
       "      <td>unknown</td>\n",
       "      <td>1</td>\n",
       "    </tr>\n",
       "    <tr>\n",
       "      <th>2</th>\n",
       "      <td>35</td>\n",
       "      <td>management</td>\n",
       "      <td>married</td>\n",
       "      <td>tertiary</td>\n",
       "      <td>no</td>\n",
       "      <td>12252</td>\n",
       "      <td>yes</td>\n",
       "      <td>no</td>\n",
       "      <td>cellular</td>\n",
       "      <td>11</td>\n",
       "      <td>nov</td>\n",
       "      <td>351</td>\n",
       "      <td>1</td>\n",
       "      <td>826</td>\n",
       "      <td>0</td>\n",
       "      <td>failure</td>\n",
       "      <td>0</td>\n",
       "    </tr>\n",
       "    <tr>\n",
       "      <th>3</th>\n",
       "      <td>31</td>\n",
       "      <td>technician</td>\n",
       "      <td>married</td>\n",
       "      <td>secondary</td>\n",
       "      <td>no</td>\n",
       "      <td>99121</td>\n",
       "      <td>yes</td>\n",
       "      <td>yes</td>\n",
       "      <td>unknown</td>\n",
       "      <td>16</td>\n",
       "      <td>may</td>\n",
       "      <td>658</td>\n",
       "      <td>2</td>\n",
       "      <td>120</td>\n",
       "      <td>0</td>\n",
       "      <td>failure</td>\n",
       "      <td>0</td>\n",
       "    </tr>\n",
       "    <tr>\n",
       "      <th>4</th>\n",
       "      <td>48</td>\n",
       "      <td>unemployed</td>\n",
       "      <td>married</td>\n",
       "      <td>primary</td>\n",
       "      <td>no</td>\n",
       "      <td>42005</td>\n",
       "      <td>yes</td>\n",
       "      <td>no</td>\n",
       "      <td>telephone</td>\n",
       "      <td>3</td>\n",
       "      <td>apr</td>\n",
       "      <td>177</td>\n",
       "      <td>1</td>\n",
       "      <td>273</td>\n",
       "      <td>0</td>\n",
       "      <td>unknown</td>\n",
       "      <td>0</td>\n",
       "    </tr>\n",
       "    <tr>\n",
       "      <th>...</th>\n",
       "      <td>...</td>\n",
       "      <td>...</td>\n",
       "      <td>...</td>\n",
       "      <td>...</td>\n",
       "      <td>...</td>\n",
       "      <td>...</td>\n",
       "      <td>...</td>\n",
       "      <td>...</td>\n",
       "      <td>...</td>\n",
       "      <td>...</td>\n",
       "      <td>...</td>\n",
       "      <td>...</td>\n",
       "      <td>...</td>\n",
       "      <td>...</td>\n",
       "      <td>...</td>\n",
       "      <td>...</td>\n",
       "      <td>...</td>\n",
       "    </tr>\n",
       "    <tr>\n",
       "      <th>18045</th>\n",
       "      <td>49</td>\n",
       "      <td>self-employed</td>\n",
       "      <td>married</td>\n",
       "      <td>tertiary</td>\n",
       "      <td>no</td>\n",
       "      <td>98357</td>\n",
       "      <td>yes</td>\n",
       "      <td>no</td>\n",
       "      <td>cellular</td>\n",
       "      <td>6</td>\n",
       "      <td>jul</td>\n",
       "      <td>101</td>\n",
       "      <td>2</td>\n",
       "      <td>417</td>\n",
       "      <td>0</td>\n",
       "      <td>failure</td>\n",
       "      <td>-999</td>\n",
       "    </tr>\n",
       "    <tr>\n",
       "      <th>18046</th>\n",
       "      <td>34</td>\n",
       "      <td>blue-collar</td>\n",
       "      <td>married</td>\n",
       "      <td>secondary</td>\n",
       "      <td>no</td>\n",
       "      <td>29621</td>\n",
       "      <td>yes</td>\n",
       "      <td>no</td>\n",
       "      <td>cellular</td>\n",
       "      <td>12</td>\n",
       "      <td>may</td>\n",
       "      <td>345</td>\n",
       "      <td>1</td>\n",
       "      <td>815</td>\n",
       "      <td>0</td>\n",
       "      <td>unknown</td>\n",
       "      <td>-999</td>\n",
       "    </tr>\n",
       "    <tr>\n",
       "      <th>18047</th>\n",
       "      <td>34</td>\n",
       "      <td>admin.</td>\n",
       "      <td>single</td>\n",
       "      <td>secondary</td>\n",
       "      <td>no</td>\n",
       "      <td>94260</td>\n",
       "      <td>yes</td>\n",
       "      <td>no</td>\n",
       "      <td>unknown</td>\n",
       "      <td>16</td>\n",
       "      <td>may</td>\n",
       "      <td>121</td>\n",
       "      <td>2</td>\n",
       "      <td>370</td>\n",
       "      <td>0</td>\n",
       "      <td>unknown</td>\n",
       "      <td>-999</td>\n",
       "    </tr>\n",
       "    <tr>\n",
       "      <th>18048</th>\n",
       "      <td>31</td>\n",
       "      <td>technician</td>\n",
       "      <td>single</td>\n",
       "      <td>secondary</td>\n",
       "      <td>no</td>\n",
       "      <td>65483</td>\n",
       "      <td>yes</td>\n",
       "      <td>no</td>\n",
       "      <td>unknown</td>\n",
       "      <td>15</td>\n",
       "      <td>may</td>\n",
       "      <td>345</td>\n",
       "      <td>2</td>\n",
       "      <td>41</td>\n",
       "      <td>0</td>\n",
       "      <td>unknown</td>\n",
       "      <td>-999</td>\n",
       "    </tr>\n",
       "    <tr>\n",
       "      <th>18049</th>\n",
       "      <td>30</td>\n",
       "      <td>retired</td>\n",
       "      <td>married</td>\n",
       "      <td>primary</td>\n",
       "      <td>no</td>\n",
       "      <td>6474</td>\n",
       "      <td>no</td>\n",
       "      <td>no</td>\n",
       "      <td>cellular</td>\n",
       "      <td>13</td>\n",
       "      <td>aug</td>\n",
       "      <td>158</td>\n",
       "      <td>1</td>\n",
       "      <td>699</td>\n",
       "      <td>0</td>\n",
       "      <td>unknown</td>\n",
       "      <td>-999</td>\n",
       "    </tr>\n",
       "  </tbody>\n",
       "</table>\n",
       "<p>45150 rows × 17 columns</p>\n",
       "</div>"
      ],
      "text/plain": [
       "       age            job  marital  education default  balance housing loan  \\\n",
       "id                                                                            \n",
       "0       31       services  married  secondary      no    12294     yes   no   \n",
       "1       29   entrepreneur   single   tertiary      no    43027      no   no   \n",
       "2       35     management  married   tertiary      no    12252     yes   no   \n",
       "3       31     technician  married  secondary      no    99121     yes  yes   \n",
       "4       48     unemployed  married    primary      no    42005     yes   no   \n",
       "...    ...            ...      ...        ...     ...      ...     ...  ...   \n",
       "18045   49  self-employed  married   tertiary      no    98357     yes   no   \n",
       "18046   34    blue-collar  married  secondary      no    29621     yes   no   \n",
       "18047   34         admin.   single  secondary      no    94260     yes   no   \n",
       "18048   31     technician   single  secondary      no    65483     yes   no   \n",
       "18049   30        retired  married    primary      no     6474      no   no   \n",
       "\n",
       "         contact  day month  duration  campaign  pdays  previous poutcome    y  \n",
       "id                                                                              \n",
       "0       cellular   21   nov       101         3    498         0    other    0  \n",
       "1       cellular   22   aug       158         2    702         0  unknown    1  \n",
       "2       cellular   11   nov       351         1    826         0  failure    0  \n",
       "3        unknown   16   may       658         2    120         0  failure    0  \n",
       "4      telephone    3   apr       177         1    273         0  unknown    0  \n",
       "...          ...  ...   ...       ...       ...    ...       ...      ...  ...  \n",
       "18045   cellular    6   jul       101         2    417         0  failure -999  \n",
       "18046   cellular   12   may       345         1    815         0  unknown -999  \n",
       "18047    unknown   16   may       121         2    370         0  unknown -999  \n",
       "18048    unknown   15   may       345         2     41         0  unknown -999  \n",
       "18049   cellular   13   aug       158         1    699         0  unknown -999  \n",
       "\n",
       "[45150 rows x 17 columns]"
      ]
     },
     "execution_count": 7,
     "metadata": {},
     "output_type": "execute_result"
    }
   ],
   "source": [
    "all_df = pd.concat([train, test], axis=0)\n",
    "all_df"
   ]
  },
  {
   "cell_type": "code",
   "execution_count": 8,
   "metadata": {},
   "outputs": [
    {
     "data": {
      "text/html": [
       "<div>\n",
       "<style scoped>\n",
       "    .dataframe tbody tr th:only-of-type {\n",
       "        vertical-align: middle;\n",
       "    }\n",
       "\n",
       "    .dataframe tbody tr th {\n",
       "        vertical-align: top;\n",
       "    }\n",
       "\n",
       "    .dataframe thead th {\n",
       "        text-align: right;\n",
       "    }\n",
       "</style>\n",
       "<table border=\"1\" class=\"dataframe\">\n",
       "  <thead>\n",
       "    <tr style=\"text-align: right;\">\n",
       "      <th></th>\n",
       "      <th>age</th>\n",
       "      <th>job</th>\n",
       "      <th>marital</th>\n",
       "      <th>education</th>\n",
       "      <th>default</th>\n",
       "      <th>balance</th>\n",
       "      <th>housing</th>\n",
       "      <th>loan</th>\n",
       "      <th>contact</th>\n",
       "      <th>day</th>\n",
       "      <th>month</th>\n",
       "      <th>duration</th>\n",
       "      <th>campaign</th>\n",
       "      <th>pdays</th>\n",
       "      <th>previous</th>\n",
       "      <th>poutcome</th>\n",
       "      <th>y</th>\n",
       "    </tr>\n",
       "    <tr>\n",
       "      <th>id</th>\n",
       "      <th></th>\n",
       "      <th></th>\n",
       "      <th></th>\n",
       "      <th></th>\n",
       "      <th></th>\n",
       "      <th></th>\n",
       "      <th></th>\n",
       "      <th></th>\n",
       "      <th></th>\n",
       "      <th></th>\n",
       "      <th></th>\n",
       "      <th></th>\n",
       "      <th></th>\n",
       "      <th></th>\n",
       "      <th></th>\n",
       "      <th></th>\n",
       "      <th></th>\n",
       "    </tr>\n",
       "  </thead>\n",
       "  <tbody>\n",
       "    <tr>\n",
       "      <th>0</th>\n",
       "      <td>9</td>\n",
       "      <td>7</td>\n",
       "      <td>1</td>\n",
       "      <td>1</td>\n",
       "      <td>0</td>\n",
       "      <td>6616</td>\n",
       "      <td>1</td>\n",
       "      <td>0</td>\n",
       "      <td>0</td>\n",
       "      <td>20</td>\n",
       "      <td>8</td>\n",
       "      <td>35</td>\n",
       "      <td>2</td>\n",
       "      <td>499</td>\n",
       "      <td>0</td>\n",
       "      <td>1</td>\n",
       "      <td>0</td>\n",
       "    </tr>\n",
       "    <tr>\n",
       "      <th>1</th>\n",
       "      <td>7</td>\n",
       "      <td>2</td>\n",
       "      <td>2</td>\n",
       "      <td>2</td>\n",
       "      <td>0</td>\n",
       "      <td>17047</td>\n",
       "      <td>0</td>\n",
       "      <td>0</td>\n",
       "      <td>0</td>\n",
       "      <td>21</td>\n",
       "      <td>1</td>\n",
       "      <td>66</td>\n",
       "      <td>1</td>\n",
       "      <td>703</td>\n",
       "      <td>0</td>\n",
       "      <td>3</td>\n",
       "      <td>1</td>\n",
       "    </tr>\n",
       "    <tr>\n",
       "      <th>2</th>\n",
       "      <td>13</td>\n",
       "      <td>4</td>\n",
       "      <td>1</td>\n",
       "      <td>2</td>\n",
       "      <td>0</td>\n",
       "      <td>6602</td>\n",
       "      <td>1</td>\n",
       "      <td>0</td>\n",
       "      <td>0</td>\n",
       "      <td>10</td>\n",
       "      <td>8</td>\n",
       "      <td>103</td>\n",
       "      <td>0</td>\n",
       "      <td>827</td>\n",
       "      <td>0</td>\n",
       "      <td>0</td>\n",
       "      <td>0</td>\n",
       "    </tr>\n",
       "    <tr>\n",
       "      <th>3</th>\n",
       "      <td>9</td>\n",
       "      <td>9</td>\n",
       "      <td>1</td>\n",
       "      <td>1</td>\n",
       "      <td>0</td>\n",
       "      <td>35951</td>\n",
       "      <td>1</td>\n",
       "      <td>1</td>\n",
       "      <td>2</td>\n",
       "      <td>15</td>\n",
       "      <td>7</td>\n",
       "      <td>124</td>\n",
       "      <td>1</td>\n",
       "      <td>121</td>\n",
       "      <td>0</td>\n",
       "      <td>0</td>\n",
       "      <td>0</td>\n",
       "    </tr>\n",
       "    <tr>\n",
       "      <th>4</th>\n",
       "      <td>26</td>\n",
       "      <td>10</td>\n",
       "      <td>1</td>\n",
       "      <td>0</td>\n",
       "      <td>0</td>\n",
       "      <td>16689</td>\n",
       "      <td>1</td>\n",
       "      <td>0</td>\n",
       "      <td>1</td>\n",
       "      <td>2</td>\n",
       "      <td>0</td>\n",
       "      <td>71</td>\n",
       "      <td>0</td>\n",
       "      <td>274</td>\n",
       "      <td>0</td>\n",
       "      <td>3</td>\n",
       "      <td>0</td>\n",
       "    </tr>\n",
       "    <tr>\n",
       "      <th>...</th>\n",
       "      <td>...</td>\n",
       "      <td>...</td>\n",
       "      <td>...</td>\n",
       "      <td>...</td>\n",
       "      <td>...</td>\n",
       "      <td>...</td>\n",
       "      <td>...</td>\n",
       "      <td>...</td>\n",
       "      <td>...</td>\n",
       "      <td>...</td>\n",
       "      <td>...</td>\n",
       "      <td>...</td>\n",
       "      <td>...</td>\n",
       "      <td>...</td>\n",
       "      <td>...</td>\n",
       "      <td>...</td>\n",
       "      <td>...</td>\n",
       "    </tr>\n",
       "    <tr>\n",
       "      <th>18045</th>\n",
       "      <td>27</td>\n",
       "      <td>6</td>\n",
       "      <td>1</td>\n",
       "      <td>2</td>\n",
       "      <td>0</td>\n",
       "      <td>35680</td>\n",
       "      <td>1</td>\n",
       "      <td>0</td>\n",
       "      <td>0</td>\n",
       "      <td>5</td>\n",
       "      <td>4</td>\n",
       "      <td>35</td>\n",
       "      <td>1</td>\n",
       "      <td>418</td>\n",
       "      <td>0</td>\n",
       "      <td>0</td>\n",
       "      <td>-999</td>\n",
       "    </tr>\n",
       "    <tr>\n",
       "      <th>18046</th>\n",
       "      <td>12</td>\n",
       "      <td>1</td>\n",
       "      <td>1</td>\n",
       "      <td>1</td>\n",
       "      <td>0</td>\n",
       "      <td>12474</td>\n",
       "      <td>1</td>\n",
       "      <td>0</td>\n",
       "      <td>0</td>\n",
       "      <td>11</td>\n",
       "      <td>7</td>\n",
       "      <td>101</td>\n",
       "      <td>0</td>\n",
       "      <td>816</td>\n",
       "      <td>0</td>\n",
       "      <td>3</td>\n",
       "      <td>-999</td>\n",
       "    </tr>\n",
       "    <tr>\n",
       "      <th>18047</th>\n",
       "      <td>12</td>\n",
       "      <td>0</td>\n",
       "      <td>2</td>\n",
       "      <td>1</td>\n",
       "      <td>0</td>\n",
       "      <td>34245</td>\n",
       "      <td>1</td>\n",
       "      <td>0</td>\n",
       "      <td>2</td>\n",
       "      <td>15</td>\n",
       "      <td>7</td>\n",
       "      <td>42</td>\n",
       "      <td>1</td>\n",
       "      <td>371</td>\n",
       "      <td>0</td>\n",
       "      <td>3</td>\n",
       "      <td>-999</td>\n",
       "    </tr>\n",
       "    <tr>\n",
       "      <th>18048</th>\n",
       "      <td>9</td>\n",
       "      <td>9</td>\n",
       "      <td>2</td>\n",
       "      <td>1</td>\n",
       "      <td>0</td>\n",
       "      <td>24513</td>\n",
       "      <td>1</td>\n",
       "      <td>0</td>\n",
       "      <td>2</td>\n",
       "      <td>14</td>\n",
       "      <td>7</td>\n",
       "      <td>101</td>\n",
       "      <td>1</td>\n",
       "      <td>42</td>\n",
       "      <td>0</td>\n",
       "      <td>3</td>\n",
       "      <td>-999</td>\n",
       "    </tr>\n",
       "    <tr>\n",
       "      <th>18049</th>\n",
       "      <td>8</td>\n",
       "      <td>5</td>\n",
       "      <td>1</td>\n",
       "      <td>0</td>\n",
       "      <td>0</td>\n",
       "      <td>4599</td>\n",
       "      <td>0</td>\n",
       "      <td>0</td>\n",
       "      <td>0</td>\n",
       "      <td>12</td>\n",
       "      <td>1</td>\n",
       "      <td>66</td>\n",
       "      <td>0</td>\n",
       "      <td>700</td>\n",
       "      <td>0</td>\n",
       "      <td>3</td>\n",
       "      <td>-999</td>\n",
       "    </tr>\n",
       "  </tbody>\n",
       "</table>\n",
       "<p>45150 rows × 17 columns</p>\n",
       "</div>"
      ],
      "text/plain": [
       "       age  job  marital  education  default  balance  housing  loan  contact  \\\n",
       "id                                                                              \n",
       "0        9    7        1          1        0     6616        1     0        0   \n",
       "1        7    2        2          2        0    17047        0     0        0   \n",
       "2       13    4        1          2        0     6602        1     0        0   \n",
       "3        9    9        1          1        0    35951        1     1        2   \n",
       "4       26   10        1          0        0    16689        1     0        1   \n",
       "...    ...  ...      ...        ...      ...      ...      ...   ...      ...   \n",
       "18045   27    6        1          2        0    35680        1     0        0   \n",
       "18046   12    1        1          1        0    12474        1     0        0   \n",
       "18047   12    0        2          1        0    34245        1     0        2   \n",
       "18048    9    9        2          1        0    24513        1     0        2   \n",
       "18049    8    5        1          0        0     4599        0     0        0   \n",
       "\n",
       "       day  month  duration  campaign  pdays  previous  poutcome    y  \n",
       "id                                                                     \n",
       "0       20      8        35         2    499         0         1    0  \n",
       "1       21      1        66         1    703         0         3    1  \n",
       "2       10      8       103         0    827         0         0    0  \n",
       "3       15      7       124         1    121         0         0    0  \n",
       "4        2      0        71         0    274         0         3    0  \n",
       "...    ...    ...       ...       ...    ...       ...       ...  ...  \n",
       "18045    5      4        35         1    418         0         0 -999  \n",
       "18046   11      7       101         0    816         0         3 -999  \n",
       "18047   15      7        42         1    371         0         3 -999  \n",
       "18048   14      7       101         1     42         0         3 -999  \n",
       "18049   12      1        66         0    700         0         3 -999  \n",
       "\n",
       "[45150 rows x 17 columns]"
      ]
     },
     "execution_count": 8,
     "metadata": {},
     "output_type": "execute_result"
    }
   ],
   "source": [
    "le = LabelEncoder()\n",
    "\n",
    "for col in all_df.columns.drop('y'):\n",
    "    all_df[col] = le.fit_transform(all_df[col])\n",
    "\n",
    "all_df"
   ]
  },
  {
   "cell_type": "code",
   "execution_count": 9,
   "metadata": {},
   "outputs": [
    {
     "data": {
      "text/plain": [
       "array([[-0.65111009,  0.82964952, -0.30302637, ...,  0.25429016,\n",
       "        -0.23730182, -1.71840175],\n",
       "       [-0.9075186 , -0.6915644 ,  1.45599146, ...,  1.06430014,\n",
       "        -0.23730182,  0.39816254],\n",
       "       [-0.13829306, -0.08307883, -0.30302637, ...,  1.55665915,\n",
       "        -0.23730182, -2.7766839 ],\n",
       "       ...,\n",
       "       [-0.26649732, -1.30004997,  1.45599146, ..., -0.2539514 ,\n",
       "        -0.23730182,  0.39816254],\n",
       "       [-0.65111009,  1.43813509,  1.45599146, ..., -1.56029103,\n",
       "        -0.23730182,  0.39816254],\n",
       "       [-0.77931434,  0.22116395, -0.30302637, ...,  1.05238823,\n",
       "        -0.23730182,  0.39816254]])"
      ]
     },
     "execution_count": 9,
     "metadata": {},
     "output_type": "execute_result"
    }
   ],
   "source": [
    "std = StandardScaler()\n",
    "all_df_std = std.fit_transform(all_df.drop('y', axis=1))\n",
    "all_df_std"
   ]
  },
  {
   "cell_type": "code",
   "execution_count": 10,
   "metadata": {},
   "outputs": [
    {
     "data": {
      "text/plain": [
       "array([[-0.65111009,  0.82964952, -0.30302637, ...,  0.25429016,\n",
       "        -0.23730182, -1.71840175],\n",
       "       [-0.9075186 , -0.6915644 ,  1.45599146, ...,  1.06430014,\n",
       "        -0.23730182,  0.39816254],\n",
       "       [-0.13829306, -0.08307883, -0.30302637, ...,  1.55665915,\n",
       "        -0.23730182, -2.7766839 ],\n",
       "       ...,\n",
       "       [-0.13829306,  0.82964952, -0.30302637, ..., -1.24264006,\n",
       "        -0.23730182,  0.39816254],\n",
       "       [-0.77931434, -1.30004997,  1.45599146, ..., -1.32602344,\n",
       "        -0.23730182,  0.39816254],\n",
       "       [-0.26649732, -0.08307883, -0.30302637, ..., -0.44851262,\n",
       "        -0.23730182,  0.39816254]])"
      ]
     },
     "execution_count": 10,
     "metadata": {},
     "output_type": "execute_result"
    }
   ],
   "source": [
    "all_df_std[:27100]"
   ]
  },
  {
   "cell_type": "code",
   "execution_count": 11,
   "metadata": {},
   "outputs": [
    {
     "data": {
      "text/plain": [
       "id\n",
       "0          0\n",
       "1          1\n",
       "2          0\n",
       "3          0\n",
       "4          0\n",
       "        ... \n",
       "18045   -999\n",
       "18046   -999\n",
       "18047   -999\n",
       "18048   -999\n",
       "18049   -999\n",
       "Name: y, Length: 45150, dtype: int64"
      ]
     },
     "execution_count": 11,
     "metadata": {},
     "output_type": "execute_result"
    }
   ],
   "source": [
    "all_df['y']"
   ]
  },
  {
   "cell_type": "code",
   "execution_count": 12,
   "metadata": {},
   "outputs": [],
   "source": [
    "X, X_test, y, y_test = train_test_split(all_df_std[:27100], all_df['y'][:27100], test_size=0.3, random_state=0)"
   ]
  },
  {
   "cell_type": "code",
   "execution_count": 13,
   "metadata": {},
   "outputs": [
    {
     "data": {
      "text/plain": [
       "((18970, 16), (18970,))"
      ]
     },
     "execution_count": 13,
     "metadata": {},
     "output_type": "execute_result"
    }
   ],
   "source": [
    "# X = all_df_std[:27100]\n",
    "# y = all_df['y'][:27100]\n",
    "X.shape, y.shape"
   ]
  },
  {
   "cell_type": "code",
   "execution_count": 14,
   "metadata": {},
   "outputs": [
    {
     "data": {
      "text/plain": [
       "array([[-0.52290583, -1.30004997, -0.30302637, ...,  0.60767687,\n",
       "        -0.23730182,  0.39816254],\n",
       "       [ 1.400158  ,  0.82964952, -0.30302637, ...,  1.19533117,\n",
       "        -0.23730182,  0.39816254],\n",
       "       [ 2.16938353,  1.74237788,  1.45599146, ...,  1.49312896,\n",
       "        -0.23730182,  0.39816254],\n",
       "       ...,\n",
       "       [ 3.06681332, -0.6915644 ,  1.45599146, ..., -0.45248326,\n",
       "        -0.23730182,  0.39816254],\n",
       "       [-0.52290583, -0.6915644 , -0.30302637, ..., -1.58411485,\n",
       "        -0.23730182,  0.39816254],\n",
       "       [-0.77931434, -0.99580719,  1.45599146, ..., -1.00440183,\n",
       "        -0.23730182,  0.39816254]])"
      ]
     },
     "execution_count": 14,
     "metadata": {},
     "output_type": "execute_result"
    }
   ],
   "source": [
    "X"
   ]
  },
  {
   "cell_type": "code",
   "execution_count": 15,
   "metadata": {},
   "outputs": [
    {
     "data": {
      "text/plain": [
       "id\n",
       "16404    0\n",
       "2185     0\n",
       "10080    1\n",
       "4211     0\n",
       "22914    0\n",
       "        ..\n",
       "13123    0\n",
       "19648    0\n",
       "9845     0\n",
       "10799    0\n",
       "2732     0\n",
       "Name: y, Length: 18970, dtype: int64"
      ]
     },
     "execution_count": 15,
     "metadata": {},
     "output_type": "execute_result"
    }
   ],
   "source": [
    "y"
   ]
  },
  {
   "cell_type": "markdown",
   "metadata": {},
   "source": [
    "## LightGBM"
   ]
  },
  {
   "cell_type": "code",
   "execution_count": 54,
   "metadata": {},
   "outputs": [],
   "source": [
    "parameters = {\n",
    "    'max_depth': list(range(1, 20)),\n",
    "    'learning_rate': [1, 0.5, 0.1, 0.05, 0.01],\n",
    "}"
   ]
  },
  {
   "cell_type": "code",
   "execution_count": 55,
   "metadata": {},
   "outputs": [
    {
     "data": {
      "text/plain": [
       "GridSearchCV(cv=5, estimator=LGBMClassifier(), n_jobs=-1,\n",
       "             param_grid={'learning_rate': [1, 0.5, 0.1, 0.05, 0.01],\n",
       "                         'max_depth': [1, 2, 3, 4, 5, 6, 7, 8, 9, 10, 11, 12,\n",
       "                                       13, 14, 15, 16, 17, 18, 19]},\n",
       "             return_train_score=True, scoring='roc_auc')"
      ]
     },
     "execution_count": 55,
     "metadata": {},
     "output_type": "execute_result"
    }
   ],
   "source": [
    "lgb = LGBMClassifier()\n",
    "\n",
    "gcv = GridSearchCV(lgb, parameters, cv=5, scoring=\"roc_auc\", n_jobs=-1, return_train_score=True)\n",
    "gcv.fit(X, y)\n"
   ]
  },
  {
   "cell_type": "code",
   "execution_count": 56,
   "metadata": {},
   "outputs": [
    {
     "data": {
      "text/plain": [
       "{'learning_rate': 0.1, 'max_depth': 5}"
      ]
     },
     "execution_count": 56,
     "metadata": {},
     "output_type": "execute_result"
    }
   ],
   "source": [
    "gcv.best_params_"
   ]
  },
  {
   "cell_type": "code",
   "execution_count": 57,
   "metadata": {
    "scrolled": false
   },
   "outputs": [
    {
     "data": {
      "text/plain": [
       "{'mean_fit_time': array([0.18888655, 0.24255123, 0.26050234, 0.33430619, 0.37499633,\n",
       "        0.4298491 , 0.44460974, 0.44480982, 0.4529881 , 0.47851915,\n",
       "        0.4404212 , 0.45976925, 0.4326426 , 0.43264236, 0.44899888,\n",
       "        0.44919758, 0.42147055, 0.43443775, 0.41927671, 0.1904901 ,\n",
       "        0.21681933, 0.25471797, 0.29939823, 0.36223049, 0.39653759,\n",
       "        0.40890603, 0.39633994, 0.40411863, 0.39354701, 0.39673944,\n",
       "        0.40631356, 0.39613929, 0.40112538, 0.40192499, 0.4049159 ,\n",
       "        0.39793491, 0.40810785, 0.39394493, 0.18350883, 0.22280402,\n",
       "        0.25790973, 0.31176562, 0.37419896, 0.43463693, 0.44181757,\n",
       "        0.43583341, 0.44819951, 0.44221559, 0.44241695, 0.46455636,\n",
       "        0.44480944, 0.43862643, 0.44780169, 0.43762898, 0.45179081,\n",
       "        0.45578098, 0.44441066, 0.1819128 , 0.2287868 , 0.26050296,\n",
       "        0.31336155, 0.3911531 , 0.45717659, 0.46355958, 0.4963099 ,\n",
       "        0.47833056, 0.49507513, 0.49308043, 0.48629775, 0.4958734 ,\n",
       "        0.49208193, 0.48829393, 0.49806705, 0.4954742 , 0.48869247,\n",
       "        0.50285378, 0.18251123, 0.22679253, 0.27107391, 0.32772284,\n",
       "        0.41967659, 0.47054114, 0.4936789 , 0.50544815, 0.53995504,\n",
       "        0.53038116, 0.5437439 , 0.52938318, 0.53636513, 0.53676386,\n",
       "        0.53786631, 0.54514389, 0.53776126, 0.53297305, 0.50105872]),\n",
       " 'std_fit_time': array([0.00933716, 0.02207171, 0.01682376, 0.02080095, 0.02033209,\n",
       "        0.02635623, 0.02202563, 0.01883897, 0.00936492, 0.02733081,\n",
       "        0.01969158, 0.03367979, 0.02161643, 0.01833006, 0.02656424,\n",
       "        0.02410666, 0.01115173, 0.03625452, 0.01611363, 0.00887579,\n",
       "        0.00970294, 0.00737215, 0.01293229, 0.00612825, 0.00753232,\n",
       "        0.03456008, 0.01018322, 0.01912541, 0.00729041, 0.01277751,\n",
       "        0.01304265, 0.01426383, 0.01883473, 0.02353327, 0.01312589,\n",
       "        0.00605052, 0.01042974, 0.01250428, 0.01411851, 0.01187792,\n",
       "        0.00681117, 0.00992521, 0.00447778, 0.00980031, 0.01286569,\n",
       "        0.00710881, 0.01545857, 0.01472028, 0.01212613, 0.01175663,\n",
       "        0.01732007, 0.00425001, 0.01178399, 0.00653589, 0.0109253 ,\n",
       "        0.01448014, 0.01543221, 0.0067825 , 0.01791461, 0.00625732,\n",
       "        0.00460957, 0.00425036, 0.0151467 , 0.00395906, 0.02035572,\n",
       "        0.00654009, 0.01395666, 0.01390019, 0.01118776, 0.01172253,\n",
       "        0.00945416, 0.00514782, 0.01368432, 0.01091433, 0.01090713,\n",
       "        0.01936315, 0.00500701, 0.01227356, 0.00438843, 0.00701338,\n",
       "        0.00953305, 0.01127239, 0.01166462, 0.00434312, 0.02814896,\n",
       "        0.0122209 , 0.00593014, 0.00513992, 0.01082321, 0.01842624,\n",
       "        0.01458774, 0.01067513, 0.01095124, 0.0092399 , 0.02575061]),\n",
       " 'mean_score_time': array([0.01595736, 0.03410916, 0.03470778, 0.03071752, 0.04508033,\n",
       "        0.04428186, 0.04627657, 0.04468079, 0.04109035, 0.04328485,\n",
       "        0.0374999 , 0.03650322, 0.03809814, 0.03809838, 0.03989367,\n",
       "        0.0388968 , 0.03969421, 0.04268651, 0.0390955 , 0.01795206,\n",
       "        0.02254019, 0.02852449, 0.03710055, 0.04208779, 0.04547911,\n",
       "        0.04069138, 0.03949542, 0.04248714, 0.03949475, 0.0365026 ,\n",
       "        0.03889651, 0.03650284, 0.03670225, 0.03969531, 0.03690124,\n",
       "        0.03630333, 0.03909621, 0.03809872, 0.02373667, 0.02234006,\n",
       "        0.03012023, 0.03450837, 0.04069157, 0.04587851, 0.04488072,\n",
       "        0.04448094, 0.04148965, 0.04149003, 0.04767275, 0.04129119,\n",
       "        0.04607759, 0.04208837, 0.042487  , 0.04129038, 0.04009323,\n",
       "        0.0398931 , 0.04428196, 0.01994681, 0.02234068, 0.02712855,\n",
       "        0.0343092 , 0.04328489, 0.04288602, 0.04767342, 0.04748268,\n",
       "        0.04707408, 0.04547911, 0.04787259, 0.04647655, 0.04527879,\n",
       "        0.04528055, 0.04747305, 0.04567809, 0.04547882, 0.04527984,\n",
       "        0.04587808, 0.01835127, 0.02114377, 0.02473497, 0.03191509,\n",
       "        0.03670173, 0.03670235, 0.03630347, 0.03929548, 0.03690224,\n",
       "        0.03869653, 0.03849769, 0.04208822, 0.03809867, 0.038099  ,\n",
       "        0.04218912, 0.03889737, 0.03909612, 0.0390976 , 0.03091712]),\n",
       " 'std_score_time': array([0.00063052, 0.00979911, 0.01150019, 0.0013229 , 0.00921428,\n",
       "        0.00214787, 0.00569744, 0.00517895, 0.00336199, 0.0028624 ,\n",
       "        0.00312835, 0.00286261, 0.00622493, 0.0021294 , 0.00962695,\n",
       "        0.00209144, 0.00415544, 0.01080436, 0.00494221, 0.00063158,\n",
       "        0.00101739, 0.00264639, 0.00353465, 0.00606313, 0.00256933,\n",
       "        0.00213057, 0.00149193, 0.00791865, 0.00629502, 0.00184997,\n",
       "        0.00295885, 0.00286205, 0.00390916, 0.00609688, 0.00302535,\n",
       "        0.00184975, 0.00628863, 0.00247525, 0.01109495, 0.00101651,\n",
       "        0.00230887, 0.00256926, 0.00375216, 0.00126297, 0.00126162,\n",
       "        0.00279234, 0.00135298, 0.00149295, 0.00872585, 0.00279337,\n",
       "        0.01141277, 0.00222102, 0.00541129, 0.00279274, 0.00159594,\n",
       "        0.00218533, 0.00348982, 0.00601651, 0.00299929, 0.00239433,\n",
       "        0.00184901, 0.00552073, 0.00109297, 0.00330128, 0.0028044 ,\n",
       "        0.00424978, 0.00272075, 0.00496655, 0.00444165, 0.00149328,\n",
       "        0.00272017, 0.0039185 , 0.00193366, 0.0022387 , 0.00214792,\n",
       "        0.00351191, 0.00299874, 0.00132362, 0.00074654, 0.00260051,\n",
       "        0.00625719, 0.0029856 , 0.00249088, 0.00293108, 0.00089127,\n",
       "        0.00255371, 0.00135251, 0.00494305, 0.00193324, 0.00171491,\n",
       "        0.0035326 , 0.00227375, 0.00193376, 0.00323995, 0.00591697]),\n",
       " 'param_learning_rate': masked_array(data=[1, 1, 1, 1, 1, 1, 1, 1, 1, 1, 1, 1, 1, 1, 1, 1, 1, 1,\n",
       "                    1, 0.5, 0.5, 0.5, 0.5, 0.5, 0.5, 0.5, 0.5, 0.5, 0.5,\n",
       "                    0.5, 0.5, 0.5, 0.5, 0.5, 0.5, 0.5, 0.5, 0.5, 0.1, 0.1,\n",
       "                    0.1, 0.1, 0.1, 0.1, 0.1, 0.1, 0.1, 0.1, 0.1, 0.1, 0.1,\n",
       "                    0.1, 0.1, 0.1, 0.1, 0.1, 0.1, 0.05, 0.05, 0.05, 0.05,\n",
       "                    0.05, 0.05, 0.05, 0.05, 0.05, 0.05, 0.05, 0.05, 0.05,\n",
       "                    0.05, 0.05, 0.05, 0.05, 0.05, 0.05, 0.01, 0.01, 0.01,\n",
       "                    0.01, 0.01, 0.01, 0.01, 0.01, 0.01, 0.01, 0.01, 0.01,\n",
       "                    0.01, 0.01, 0.01, 0.01, 0.01, 0.01, 0.01],\n",
       "              mask=[False, False, False, False, False, False, False, False,\n",
       "                    False, False, False, False, False, False, False, False,\n",
       "                    False, False, False, False, False, False, False, False,\n",
       "                    False, False, False, False, False, False, False, False,\n",
       "                    False, False, False, False, False, False, False, False,\n",
       "                    False, False, False, False, False, False, False, False,\n",
       "                    False, False, False, False, False, False, False, False,\n",
       "                    False, False, False, False, False, False, False, False,\n",
       "                    False, False, False, False, False, False, False, False,\n",
       "                    False, False, False, False, False, False, False, False,\n",
       "                    False, False, False, False, False, False, False, False,\n",
       "                    False, False, False, False, False, False, False],\n",
       "        fill_value='?',\n",
       "             dtype=object),\n",
       " 'param_max_depth': masked_array(data=[1, 2, 3, 4, 5, 6, 7, 8, 9, 10, 11, 12, 13, 14, 15, 16,\n",
       "                    17, 18, 19, 1, 2, 3, 4, 5, 6, 7, 8, 9, 10, 11, 12, 13,\n",
       "                    14, 15, 16, 17, 18, 19, 1, 2, 3, 4, 5, 6, 7, 8, 9, 10,\n",
       "                    11, 12, 13, 14, 15, 16, 17, 18, 19, 1, 2, 3, 4, 5, 6,\n",
       "                    7, 8, 9, 10, 11, 12, 13, 14, 15, 16, 17, 18, 19, 1, 2,\n",
       "                    3, 4, 5, 6, 7, 8, 9, 10, 11, 12, 13, 14, 15, 16, 17,\n",
       "                    18, 19],\n",
       "              mask=[False, False, False, False, False, False, False, False,\n",
       "                    False, False, False, False, False, False, False, False,\n",
       "                    False, False, False, False, False, False, False, False,\n",
       "                    False, False, False, False, False, False, False, False,\n",
       "                    False, False, False, False, False, False, False, False,\n",
       "                    False, False, False, False, False, False, False, False,\n",
       "                    False, False, False, False, False, False, False, False,\n",
       "                    False, False, False, False, False, False, False, False,\n",
       "                    False, False, False, False, False, False, False, False,\n",
       "                    False, False, False, False, False, False, False, False,\n",
       "                    False, False, False, False, False, False, False, False,\n",
       "                    False, False, False, False, False, False, False],\n",
       "        fill_value='?',\n",
       "             dtype=object),\n",
       " 'params': [{'learning_rate': 1, 'max_depth': 1},\n",
       "  {'learning_rate': 1, 'max_depth': 2},\n",
       "  {'learning_rate': 1, 'max_depth': 3},\n",
       "  {'learning_rate': 1, 'max_depth': 4},\n",
       "  {'learning_rate': 1, 'max_depth': 5},\n",
       "  {'learning_rate': 1, 'max_depth': 6},\n",
       "  {'learning_rate': 1, 'max_depth': 7},\n",
       "  {'learning_rate': 1, 'max_depth': 8},\n",
       "  {'learning_rate': 1, 'max_depth': 9},\n",
       "  {'learning_rate': 1, 'max_depth': 10},\n",
       "  {'learning_rate': 1, 'max_depth': 11},\n",
       "  {'learning_rate': 1, 'max_depth': 12},\n",
       "  {'learning_rate': 1, 'max_depth': 13},\n",
       "  {'learning_rate': 1, 'max_depth': 14},\n",
       "  {'learning_rate': 1, 'max_depth': 15},\n",
       "  {'learning_rate': 1, 'max_depth': 16},\n",
       "  {'learning_rate': 1, 'max_depth': 17},\n",
       "  {'learning_rate': 1, 'max_depth': 18},\n",
       "  {'learning_rate': 1, 'max_depth': 19},\n",
       "  {'learning_rate': 0.5, 'max_depth': 1},\n",
       "  {'learning_rate': 0.5, 'max_depth': 2},\n",
       "  {'learning_rate': 0.5, 'max_depth': 3},\n",
       "  {'learning_rate': 0.5, 'max_depth': 4},\n",
       "  {'learning_rate': 0.5, 'max_depth': 5},\n",
       "  {'learning_rate': 0.5, 'max_depth': 6},\n",
       "  {'learning_rate': 0.5, 'max_depth': 7},\n",
       "  {'learning_rate': 0.5, 'max_depth': 8},\n",
       "  {'learning_rate': 0.5, 'max_depth': 9},\n",
       "  {'learning_rate': 0.5, 'max_depth': 10},\n",
       "  {'learning_rate': 0.5, 'max_depth': 11},\n",
       "  {'learning_rate': 0.5, 'max_depth': 12},\n",
       "  {'learning_rate': 0.5, 'max_depth': 13},\n",
       "  {'learning_rate': 0.5, 'max_depth': 14},\n",
       "  {'learning_rate': 0.5, 'max_depth': 15},\n",
       "  {'learning_rate': 0.5, 'max_depth': 16},\n",
       "  {'learning_rate': 0.5, 'max_depth': 17},\n",
       "  {'learning_rate': 0.5, 'max_depth': 18},\n",
       "  {'learning_rate': 0.5, 'max_depth': 19},\n",
       "  {'learning_rate': 0.1, 'max_depth': 1},\n",
       "  {'learning_rate': 0.1, 'max_depth': 2},\n",
       "  {'learning_rate': 0.1, 'max_depth': 3},\n",
       "  {'learning_rate': 0.1, 'max_depth': 4},\n",
       "  {'learning_rate': 0.1, 'max_depth': 5},\n",
       "  {'learning_rate': 0.1, 'max_depth': 6},\n",
       "  {'learning_rate': 0.1, 'max_depth': 7},\n",
       "  {'learning_rate': 0.1, 'max_depth': 8},\n",
       "  {'learning_rate': 0.1, 'max_depth': 9},\n",
       "  {'learning_rate': 0.1, 'max_depth': 10},\n",
       "  {'learning_rate': 0.1, 'max_depth': 11},\n",
       "  {'learning_rate': 0.1, 'max_depth': 12},\n",
       "  {'learning_rate': 0.1, 'max_depth': 13},\n",
       "  {'learning_rate': 0.1, 'max_depth': 14},\n",
       "  {'learning_rate': 0.1, 'max_depth': 15},\n",
       "  {'learning_rate': 0.1, 'max_depth': 16},\n",
       "  {'learning_rate': 0.1, 'max_depth': 17},\n",
       "  {'learning_rate': 0.1, 'max_depth': 18},\n",
       "  {'learning_rate': 0.1, 'max_depth': 19},\n",
       "  {'learning_rate': 0.05, 'max_depth': 1},\n",
       "  {'learning_rate': 0.05, 'max_depth': 2},\n",
       "  {'learning_rate': 0.05, 'max_depth': 3},\n",
       "  {'learning_rate': 0.05, 'max_depth': 4},\n",
       "  {'learning_rate': 0.05, 'max_depth': 5},\n",
       "  {'learning_rate': 0.05, 'max_depth': 6},\n",
       "  {'learning_rate': 0.05, 'max_depth': 7},\n",
       "  {'learning_rate': 0.05, 'max_depth': 8},\n",
       "  {'learning_rate': 0.05, 'max_depth': 9},\n",
       "  {'learning_rate': 0.05, 'max_depth': 10},\n",
       "  {'learning_rate': 0.05, 'max_depth': 11},\n",
       "  {'learning_rate': 0.05, 'max_depth': 12},\n",
       "  {'learning_rate': 0.05, 'max_depth': 13},\n",
       "  {'learning_rate': 0.05, 'max_depth': 14},\n",
       "  {'learning_rate': 0.05, 'max_depth': 15},\n",
       "  {'learning_rate': 0.05, 'max_depth': 16},\n",
       "  {'learning_rate': 0.05, 'max_depth': 17},\n",
       "  {'learning_rate': 0.05, 'max_depth': 18},\n",
       "  {'learning_rate': 0.05, 'max_depth': 19},\n",
       "  {'learning_rate': 0.01, 'max_depth': 1},\n",
       "  {'learning_rate': 0.01, 'max_depth': 2},\n",
       "  {'learning_rate': 0.01, 'max_depth': 3},\n",
       "  {'learning_rate': 0.01, 'max_depth': 4},\n",
       "  {'learning_rate': 0.01, 'max_depth': 5},\n",
       "  {'learning_rate': 0.01, 'max_depth': 6},\n",
       "  {'learning_rate': 0.01, 'max_depth': 7},\n",
       "  {'learning_rate': 0.01, 'max_depth': 8},\n",
       "  {'learning_rate': 0.01, 'max_depth': 9},\n",
       "  {'learning_rate': 0.01, 'max_depth': 10},\n",
       "  {'learning_rate': 0.01, 'max_depth': 11},\n",
       "  {'learning_rate': 0.01, 'max_depth': 12},\n",
       "  {'learning_rate': 0.01, 'max_depth': 13},\n",
       "  {'learning_rate': 0.01, 'max_depth': 14},\n",
       "  {'learning_rate': 0.01, 'max_depth': 15},\n",
       "  {'learning_rate': 0.01, 'max_depth': 16},\n",
       "  {'learning_rate': 0.01, 'max_depth': 17},\n",
       "  {'learning_rate': 0.01, 'max_depth': 18},\n",
       "  {'learning_rate': 0.01, 'max_depth': 19}],\n",
       " 'split0_test_score': array([0.59072774, 0.42189055, 0.75785845, 0.62879845, 0.60863652,\n",
       "        0.61020067, 0.59492535, 0.67379307, 0.57182834, 0.63398809,\n",
       "        0.66569051, 0.59981196, 0.61009227, 0.67498209, 0.69565723,\n",
       "        0.57584876, 0.58913531, 0.58932052, 0.63443721, 0.82748313,\n",
       "        0.85202458, 0.84671995, 0.82641287, 0.80554027, 0.80496437,\n",
       "        0.81718349, 0.81228699, 0.80334131, 0.80522263, 0.80443372,\n",
       "        0.82001112, 0.81591012, 0.81964824, 0.81227096, 0.80775053,\n",
       "        0.80943297, 0.80943297, 0.80943297, 0.80181439, 0.83396688,\n",
       "        0.84767663, 0.8487926 , 0.85129175, 0.8520406 , 0.84929639,\n",
       "        0.84675435, 0.850566  , 0.84871814, 0.84771858, 0.85357082,\n",
       "        0.84939866, 0.8461106 , 0.8475607 , 0.84837223, 0.85300483,\n",
       "        0.85300483, 0.85300483, 0.78584113, 0.81394256, 0.83606309,\n",
       "        0.84335413, 0.84644944, 0.84738397, 0.84845329, 0.85010274,\n",
       "        0.8503822 , 0.85130731, 0.85151796, 0.85172203, 0.84928084,\n",
       "        0.85096516, 0.85143832, 0.85226587, 0.85148639, 0.85148639,\n",
       "        0.85148639, 0.73066562, 0.77367856, 0.79782603, 0.80575469,\n",
       "        0.8128101 , 0.81771038, 0.82059644, 0.82389016, 0.82251499,\n",
       "        0.82294903, 0.82399101, 0.8236154 , 0.82372097, 0.82380627,\n",
       "        0.82397781, 0.82397781, 0.82397781, 0.82397781, 0.82397781]),\n",
       " 'split1_test_score': array([0.62578844, 0.66407499, 0.78964381, 0.52012705, 0.4848114 ,\n",
       "        0.5596851 , 0.48085649, 0.5498426 , 0.62541708, 0.65154294,\n",
       "        0.57066807, 0.56026193, 0.61713637, 0.62142588, 0.60761103,\n",
       "        0.6133464 , 0.6133464 , 0.6133464 , 0.6133464 , 0.82546844,\n",
       "        0.83538258, 0.82267003, 0.80588901, 0.79363218, 0.79048315,\n",
       "        0.80442147, 0.78896848, 0.79856922, 0.79226361, 0.78745334,\n",
       "        0.79635802, 0.80316035, 0.79592068, 0.78531801, 0.7831398 ,\n",
       "        0.79244364, 0.79313829, 0.79313829, 0.80268625, 0.82911043,\n",
       "        0.83543253, 0.83328212, 0.8322802 , 0.82662683, 0.83037438,\n",
       "        0.82595103, 0.82365499, 0.82537042, 0.82285996, 0.82825931,\n",
       "        0.82784554, 0.8302132 , 0.8256513 , 0.82782009, 0.82721969,\n",
       "        0.82395755, 0.82649487, 0.78079051, 0.8146933 , 0.82379543,\n",
       "        0.82962459, 0.82832859, 0.82932297, 0.8306119 , 0.82875792,\n",
       "        0.83202948, 0.83345555, 0.83229057, 0.8294997 , 0.83022734,\n",
       "        0.83163691, 0.83300501, 0.83123398, 0.83232261, 0.83139138,\n",
       "        0.83139138, 0.72743317, 0.77114359, 0.79096337, 0.79691364,\n",
       "        0.79937651, 0.80108769, 0.80378337, 0.80439743, 0.80836978,\n",
       "        0.81076337, 0.8109137 , 0.81054658, 0.81053433, 0.81070587,\n",
       "        0.8108859 , 0.81050652, 0.81050652, 0.81050652, 0.81050652]),\n",
       " 'split2_test_score': array([0.57018361, 0.82486804, 0.71230442, 0.48661118, 0.64356149,\n",
       "        0.61424747, 0.63438678, 0.60733251, 0.68020613, 0.63489057,\n",
       "        0.6364288 , 0.58955474, 0.60025496, 0.67582284, 0.57779275,\n",
       "        0.64531179, 0.65335922, 0.65335922, 0.65335922, 0.81150703,\n",
       "        0.82685021, 0.82381522, 0.80737728, 0.79505636, 0.79536269,\n",
       "        0.79314866, 0.78082397, 0.79014006, 0.79377451, 0.79359919,\n",
       "        0.78557062, 0.78717011, 0.79358317, 0.78987615, 0.7897555 ,\n",
       "        0.7839796 , 0.7839796 , 0.7839796 , 0.78042763, 0.81297881,\n",
       "        0.82217002, 0.82629505, 0.8293357 , 0.82527899, 0.82480772,\n",
       "        0.8220489 , 0.83036118, 0.82461544, 0.82748643, 0.82616404,\n",
       "        0.8233251 , 0.82620928, 0.82375679, 0.82417622, 0.82288493,\n",
       "        0.82288493, 0.82288493, 0.76428376, 0.79603472, 0.81189772,\n",
       "        0.81545346, 0.82310219, 0.82424361, 0.82798503, 0.82860523,\n",
       "        0.82693504, 0.82725362, 0.82705946, 0.8255693 , 0.82778804,\n",
       "        0.82563622, 0.82793225, 0.82650524, 0.82718953, 0.82718953,\n",
       "        0.82718953, 0.70378666, 0.75422259, 0.78031594, 0.78966266,\n",
       "        0.79655454, 0.79842454, 0.80403502, 0.80781933, 0.80739378,\n",
       "        0.80773969, 0.80788908, 0.8086827 , 0.80883351, 0.80870721,\n",
       "        0.80907763, 0.80888535, 0.80888535, 0.80888535, 0.80888535]),\n",
       " 'split3_test_score': array([0.62719047, 0.47392173, 0.82841672, 0.57281189, 0.60209386,\n",
       "        0.53154926, 0.58149176, 0.63460781, 0.64173861, 0.66017946,\n",
       "        0.6326525 , 0.65684474, 0.63157094, 0.63518653, 0.55704645,\n",
       "        0.66095847, 0.66095847, 0.66095847, 0.66095847, 0.84671477,\n",
       "        0.86532716, 0.85851399, 0.84453985, 0.82607544, 0.84171788,\n",
       "        0.83081737, 0.82152296, 0.82021188, 0.84525901, 0.82189432,\n",
       "        0.83726059, 0.82209131, 0.83696087, 0.83269398, 0.83321143,\n",
       "        0.84057646, 0.84057646, 0.84057646, 0.83035835, 0.85126913,\n",
       "        0.86832209, 0.87300935, 0.87481715, 0.87210357, 0.87162004,\n",
       "        0.86547749, 0.86984523, 0.87034572, 0.86829004, 0.86867365,\n",
       "        0.87121286, 0.86716559, 0.86619759, 0.86764817, 0.86727963,\n",
       "        0.86727963, 0.86727963, 0.80991084, 0.83644247, 0.85254204,\n",
       "        0.86045421, 0.86427245, 0.8696506 , 0.86780699, 0.86827496,\n",
       "        0.87099467, 0.87089381, 0.87050973, 0.87112049, 0.87081323,\n",
       "        0.87262574, 0.87381287, 0.87025524, 0.87056911, 0.87087779,\n",
       "        0.87227935, 0.75263865, 0.79372361, 0.81957237, 0.82412061,\n",
       "        0.83738501, 0.84228906, 0.843143  , 0.84233713, 0.84550313,\n",
       "        0.84728925, 0.84785147, 0.84831945, 0.84829918, 0.84808994,\n",
       "        0.8482497 , 0.8482497 , 0.8482497 , 0.8482497 , 0.8482497 ]),\n",
       " 'split4_test_score': array([0.62794779, 0.77020472, 0.71740552, 0.59799557, 0.62791302,\n",
       "        0.59148612, 0.54620141, 0.57926786, 0.57325928, 0.58688384,\n",
       "        0.63068473, 0.58866508, 0.58002105, 0.60568579, 0.57341998,\n",
       "        0.61510649, 0.60485319, 0.59388429, 0.59388429, 0.83710209,\n",
       "        0.84574142, 0.83418519, 0.80775176, 0.80079688, 0.78956063,\n",
       "        0.79459566, 0.79655028, 0.78986134, 0.8093117 , 0.78993746,\n",
       "        0.79233093, 0.78812944, 0.78518153, 0.78176752, 0.78454534,\n",
       "        0.78454534, 0.78454534, 0.78454534, 0.8071245 , 0.83547872,\n",
       "        0.84381217, 0.84666422, 0.84753957, 0.84332492, 0.83933393,\n",
       "        0.84336721, 0.8398395 , 0.84150186, 0.83984419, 0.84133365,\n",
       "        0.83790038, 0.84161416, 0.84237345, 0.8426347 , 0.84200414,\n",
       "        0.84244487, 0.84241762, 0.79048861, 0.8209027 , 0.82914265,\n",
       "        0.83773687, 0.84240071, 0.8436261 , 0.84677276, 0.84484492,\n",
       "        0.8464993 , 0.84785203, 0.84857327, 0.84545104, 0.8467784 ,\n",
       "        0.84747097, 0.84788962, 0.8489656 , 0.8489656 , 0.8489656 ,\n",
       "        0.8489656 , 0.73382387, 0.76858323, 0.79678286, 0.80837339,\n",
       "        0.81603964, 0.82257164, 0.82566239, 0.82815312, 0.82993859,\n",
       "        0.83193973, 0.83282729, 0.83204169, 0.83214506, 0.8314896 ,\n",
       "        0.83182649, 0.83182649, 0.83182649, 0.83182649, 0.83182649]),\n",
       " 'mean_test_score': array([0.60836761, 0.63099201, 0.76112578, 0.56126883, 0.59340326,\n",
       "        0.58143372, 0.56757236, 0.60896877, 0.61848989, 0.63349698,\n",
       "        0.62722492, 0.59902769, 0.60781512, 0.64262062, 0.60230549,\n",
       "        0.62211438, 0.62433052, 0.62217378, 0.63119712, 0.82965509,\n",
       "        0.84506519, 0.83718088, 0.81839415, 0.80422023, 0.80441774,\n",
       "        0.80803333, 0.80003054, 0.80042476, 0.80916629, 0.79946361,\n",
       "        0.80630626, 0.80329227, 0.8062589 , 0.80038532, 0.79968052,\n",
       "        0.8021956 , 0.80233453, 0.80233453, 0.80448223, 0.83256079,\n",
       "        0.84348269, 0.84560867, 0.84705287, 0.84387498, 0.84308649,\n",
       "        0.8407198 , 0.84285338, 0.84211032, 0.84123984, 0.8436003 ,\n",
       "        0.84193651, 0.84226257, 0.84110797, 0.84213028, 0.84247865,\n",
       "        0.84191436, 0.84241638, 0.78626297, 0.81640315, 0.83068818,\n",
       "        0.83732465, 0.84091068, 0.84284545, 0.84432599, 0.84411715,\n",
       "        0.84536814, 0.84615246, 0.8459902 , 0.84467251, 0.84497757,\n",
       "        0.845667  , 0.84681561, 0.84584519, 0.84610665, 0.84598214,\n",
       "        0.84626245, 0.7296696 , 0.77227031, 0.79709211, 0.804965  ,\n",
       "        0.81243316, 0.81641666, 0.81944404, 0.82131943, 0.82274405,\n",
       "        0.82413621, 0.82469451, 0.82464116, 0.82470661, 0.82455978,\n",
       "        0.8248035 , 0.82468917, 0.82468917, 0.82468917, 0.82468917]),\n",
       " 'std_test_score': array([0.02370802, 0.15903275, 0.04392496, 0.05159216, 0.05622552,\n",
       "        0.03151759, 0.05173483, 0.04298901, 0.04152226, 0.0253479 ,\n",
       "        0.03099812, 0.03175951, 0.01723993, 0.02834896, 0.04944962,\n",
       "        0.02937168, 0.02801068, 0.02978032, 0.02489293, 0.01181599,\n",
       "        0.01330396, 0.01374245, 0.01509244, 0.01172344, 0.0194345 ,\n",
       "        0.0142689 , 0.01493665, 0.01114307, 0.01918784, 0.01262715,\n",
       "        0.01934031, 0.01415957, 0.01915042, 0.01933498, 0.01892418,\n",
       "        0.02127874, 0.0212168 , 0.0212168 , 0.01590926, 0.01229514,\n",
       "        0.01519032, 0.01604374, 0.0162554 , 0.0173617 , 0.01650769,\n",
       "        0.01564025, 0.01625891, 0.01689714, 0.0161407 , 0.01595363,\n",
       "        0.01716985, 0.0144103 , 0.0155737 , 0.01560454, 0.01638819,\n",
       "        0.01703668, 0.01652434, 0.01476678, 0.01300516, 0.01348674,\n",
       "        0.0148939 , 0.01451979, 0.01592865, 0.01434909, 0.01480866,\n",
       "        0.01549734, 0.01523137, 0.01539148, 0.01640088, 0.01550672,\n",
       "        0.01646921, 0.01611638, 0.01571199, 0.01538431, 0.01565276,\n",
       "        0.01610218, 0.01562533, 0.01267132, 0.01284521, 0.01164615,\n",
       "        0.01454889, 0.01592251, 0.01472638, 0.01388278, 0.01422702,\n",
       "        0.01446407, 0.01466435, 0.01462745, 0.01459945, 0.01446024,\n",
       "        0.01442727, 0.01454272, 0.01454272, 0.01454272, 0.01454272]),\n",
       " 'rank_test_score': array([88, 81, 76, 95, 92, 93, 94, 87, 86, 79, 82, 91, 89, 78, 90, 85, 83,\n",
       "        84, 80, 38, 12, 35, 52, 63, 62, 57, 70, 68, 56, 72, 58, 64, 59, 69,\n",
       "        71, 67, 65, 65, 61, 36, 19, 10,  1, 17, 20, 33, 21, 27, 30, 18, 28,\n",
       "        25, 31, 26, 23, 29, 24, 74, 54, 37, 34, 32, 22, 15, 16, 11,  4,  6,\n",
       "        14, 13,  9,  2,  8,  5,  7,  3, 77, 75, 73, 60, 55, 53, 51, 50, 49,\n",
       "        48, 41, 46, 40, 47, 39, 42, 42, 42, 42]),\n",
       " 'split0_train_score': array([0.63671076, 0.42896467, 0.81988993, 0.64541535, 0.67963027,\n",
       "        0.7014327 , 0.66646503, 0.72402101, 0.57450482, 0.63772294,\n",
       "        0.72942585, 0.67134632, 0.67673939, 0.72016522, 0.74911607,\n",
       "        0.63615078, 0.61578909, 0.62771479, 0.67384007, 0.83820227,\n",
       "        0.88840228, 0.93263574, 0.97174246, 0.99520141, 0.9991029 ,\n",
       "        0.99951113, 0.9997281 , 0.99989752, 0.99977452, 0.9998167 ,\n",
       "        0.99994278, 0.99969885, 0.99988451, 0.99986173, 0.99997451,\n",
       "        0.99986261, 0.99986261, 0.99986261, 0.80989605, 0.84586799,\n",
       "        0.87303385, 0.90280407, 0.93446396, 0.95158206, 0.95890159,\n",
       "        0.96250076, 0.9646779 , 0.96619431, 0.96778949, 0.96896416,\n",
       "        0.96706801, 0.96955614, 0.96977647, 0.97017221, 0.97099576,\n",
       "        0.97099576, 0.97099576, 0.789983  , 0.82547271, 0.84778392,\n",
       "        0.87323299, 0.9000165 , 0.91589991, 0.92274797, 0.92479146,\n",
       "        0.92758997, 0.92836034, 0.92957218, 0.93204165, 0.93189343,\n",
       "        0.93037525, 0.9328108 , 0.93249479, 0.93223658, 0.93223658,\n",
       "        0.93223658, 0.72950797, 0.78379355, 0.80604203, 0.81630907,\n",
       "        0.83511579, 0.8466674 , 0.84936591, 0.8536537 , 0.85458262,\n",
       "        0.85637069, 0.85718335, 0.85833006, 0.85854459, 0.85839879,\n",
       "        0.8584885 , 0.8584885 , 0.8584885 , 0.8584885 , 0.8584885 ]),\n",
       " 'split1_train_score': array([0.60356145, 0.68310532, 0.92634072, 0.51899994, 0.48921425,\n",
       "        0.5948633 , 0.53935325, 0.57303364, 0.63305408, 0.72399276,\n",
       "        0.5748543 , 0.6186226 , 0.67864711, 0.66875413, 0.62601048,\n",
       "        0.64123996, 0.64123996, 0.64123996, 0.64123996, 0.84056166,\n",
       "        0.89237403, 0.93518526, 0.97284576, 0.99614683, 0.99868702,\n",
       "        0.99961579, 0.99982641, 0.99984789, 0.99964281, 0.99994302,\n",
       "        0.99994967, 0.9998851 , 0.99979974, 0.99977746, 0.99972016,\n",
       "        0.99993183, 0.99995444, 0.99995444, 0.80786763, 0.84934333,\n",
       "        0.87748461, 0.90531385, 0.93551478, 0.95498885, 0.96072245,\n",
       "        0.96434069, 0.96460803, 0.96649267, 0.96921708, 0.96972163,\n",
       "        0.96931367, 0.9710234 , 0.97028035, 0.96968782, 0.97153985,\n",
       "        0.97321166, 0.97184085, 0.78980734, 0.82801729, 0.85453582,\n",
       "        0.87689079, 0.90377957, 0.91964844, 0.92452177, 0.93078403,\n",
       "        0.93151172, 0.9333669 , 0.93233262, 0.93544362, 0.93647016,\n",
       "        0.9357194 , 0.93467396, 0.93587006, 0.93674659, 0.93588928,\n",
       "        0.93588928, 0.73453981, 0.77982371, 0.80196835, 0.82690881,\n",
       "        0.84006137, 0.85585916, 0.85885979, 0.86049481, 0.85967503,\n",
       "        0.86052619, 0.86084679, 0.86108134, 0.86155694, 0.8616367 ,\n",
       "        0.86143373, 0.86161092, 0.86161092, 0.86161092, 0.86161092]),\n",
       " 'split2_train_score': array([0.60157105, 0.89891826, 0.79058309, 0.4918789 , 0.67144074,\n",
       "        0.66565043, 0.68128039, 0.61961256, 0.75217183, 0.70255337,\n",
       "        0.67784099, 0.659206  , 0.62719263, 0.74206676, 0.61961933,\n",
       "        0.70768387, 0.73490645, 0.73490645, 0.73490645, 0.84322175,\n",
       "        0.8907954 , 0.93751495, 0.97210825, 0.99536258, 0.99906005,\n",
       "        0.9995956 , 0.99966247, 0.99963804, 0.99989566, 0.99995456,\n",
       "        0.99997163, 0.99981463, 0.99995615, 0.99978871, 0.99975442,\n",
       "        0.99997122, 0.99997122, 0.99997122, 0.8149749 , 0.85031389,\n",
       "        0.8763691 , 0.90238934, 0.93100725, 0.95149738, 0.95897302,\n",
       "        0.9626483 , 0.96538227, 0.96840439, 0.96843859, 0.96858755,\n",
       "        0.96841242, 0.96917993, 0.97000104, 0.96924836, 0.9705174 ,\n",
       "        0.9705174 , 0.9705174 , 0.79405982, 0.83074643, 0.85273017,\n",
       "        0.87264361, 0.89997718, 0.91560291, 0.92158913, 0.92730975,\n",
       "        0.92804779, 0.92992284, 0.93238665, 0.93338712, 0.93366437,\n",
       "        0.93421005, 0.9346608 , 0.93519256, 0.93456877, 0.93456877,\n",
       "        0.93456877, 0.73616595, 0.78328931, 0.81023682, 0.82106849,\n",
       "        0.84134076, 0.8505475 , 0.85520811, 0.85835867, 0.8601483 ,\n",
       "        0.86006248, 0.86038423, 0.86167829, 0.86168429, 0.86162154,\n",
       "        0.8617315 , 0.86157786, 0.86157786, 0.86157786, 0.86157786]),\n",
       " 'split3_train_score': array([0.60353072, 0.48723221, 0.93755062, 0.56892735, 0.67252338,\n",
       "        0.58640076, 0.64909396, 0.67839072, 0.6609205 , 0.71590327,\n",
       "        0.69141761, 0.67270569, 0.68556257, 0.66594254, 0.57665806,\n",
       "        0.70668547, 0.70668547, 0.70668547, 0.70668547, 0.83476116,\n",
       "        0.88576659, 0.92855238, 0.96864859, 0.99540802, 0.99930952,\n",
       "        0.99865465, 0.9997327 , 0.99977305, 0.99952231, 0.99971103,\n",
       "        0.99960961, 0.99982029, 0.99991359, 0.9998453 , 0.99987103,\n",
       "        0.99981399, 0.99981399, 0.99981399, 0.80266196, 0.84058308,\n",
       "        0.87140492, 0.89620251, 0.92781275, 0.94976944, 0.95488505,\n",
       "        0.96249054, 0.96227304, 0.96503818, 0.96569711, 0.96586302,\n",
       "        0.96653499, 0.96782178, 0.96583956, 0.96687232, 0.96779791,\n",
       "        0.96779791, 0.96779791, 0.78448553, 0.81861583, 0.84441432,\n",
       "        0.86803309, 0.89370046, 0.91144426, 0.91703559, 0.92310628,\n",
       "        0.92321877, 0.9262853 , 0.92662412, 0.92993506, 0.92852731,\n",
       "        0.92932304, 0.92600478, 0.9288379 , 0.93022891, 0.92929408,\n",
       "        0.92894501, 0.72387818, 0.76930823, 0.79561688, 0.81167712,\n",
       "        0.83027602, 0.84726093, 0.85120828, 0.85315279, 0.85411317,\n",
       "        0.85495803, 0.85587584, 0.85646894, 0.85681129, 0.85660915,\n",
       "        0.85677709, 0.85677709, 0.85677709, 0.85677709, 0.85677709]),\n",
       " 'split4_train_score': array([0.60187964, 0.81235329, 0.73224812, 0.66582806, 0.62787149,\n",
       "        0.61936533, 0.56450759, 0.65346131, 0.62399328, 0.61478994,\n",
       "        0.68700181, 0.64344462, 0.61615665, 0.60512938, 0.65069524,\n",
       "        0.68485231, 0.63731302, 0.58283082, 0.58283082, 0.8341917 ,\n",
       "        0.88605178, 0.93335617, 0.97511655, 0.99618317, 0.99903872,\n",
       "        0.99972425, 0.99980531, 0.99981149, 0.99992424, 0.99988536,\n",
       "        0.99989299, 0.99994607, 0.99978071, 0.9999448 , 0.99987287,\n",
       "        0.99987287, 0.99987287, 0.99987287, 0.80749707, 0.84258278,\n",
       "        0.87313636, 0.90203009, 0.92938798, 0.95107096, 0.95915668,\n",
       "        0.96056811, 0.96638322, 0.96743451, 0.97008167, 0.97078401,\n",
       "        0.97055871, 0.97170028, 0.96982194, 0.97063562, 0.9700212 ,\n",
       "        0.9709592 , 0.97031733, 0.79023717, 0.82467744, 0.84851243,\n",
       "        0.87272582, 0.89979553, 0.91541564, 0.91988155, 0.92493311,\n",
       "        0.9283245 , 0.93009812, 0.93254175, 0.93143474, 0.93262488,\n",
       "        0.93214998, 0.93302487, 0.93246473, 0.93246473, 0.93246473,\n",
       "        0.93246473, 0.7286196 , 0.76734888, 0.7957033 , 0.81562314,\n",
       "        0.83159983, 0.84317334, 0.84947683, 0.85461478, 0.85635265,\n",
       "        0.85712029, 0.85750862, 0.85683779, 0.85754897, 0.85734409,\n",
       "        0.85761274, 0.85761274, 0.85761274, 0.85761274, 0.85761274]),\n",
       " 'mean_train_score': array([0.60945072, 0.66211475, 0.8413225 , 0.57820992, 0.62813603,\n",
       "        0.6335425 , 0.62014004, 0.64970385, 0.6489289 , 0.67899245,\n",
       "        0.67210811, 0.65306505, 0.65685967, 0.68041161, 0.64441984,\n",
       "        0.67532248, 0.6671868 , 0.6586755 , 0.66790055, 0.83818771,\n",
       "        0.88867802, 0.9334489 , 0.97209232, 0.9956604 , 0.99903964,\n",
       "        0.99942028, 0.999751  , 0.9997936 , 0.99975191, 0.99986213,\n",
       "        0.99987334, 0.99983299, 0.99986694, 0.9998436 , 0.9998386 ,\n",
       "        0.9998905 , 0.99989503, 0.99989503, 0.80857952, 0.84573821,\n",
       "        0.87428577, 0.90174797, 0.93163734, 0.95178174, 0.95852776,\n",
       "        0.96250968, 0.96466489, 0.96671281, 0.96824479, 0.96878407,\n",
       "        0.96837756, 0.9698563 , 0.96914387, 0.96932326, 0.97017442,\n",
       "        0.97069639, 0.97029385, 0.78971457, 0.82550594, 0.84959533,\n",
       "        0.87270526, 0.89945385, 0.91560223, 0.9211552 , 0.92618492,\n",
       "        0.92773855, 0.9296067 , 0.93069147, 0.93244843, 0.93263603,\n",
       "        0.93235554, 0.93223504, 0.93297201, 0.93324911, 0.93289069,\n",
       "        0.93282087, 0.7305423 , 0.77671274, 0.80191348, 0.81831732,\n",
       "        0.83567875, 0.84870167, 0.85282378, 0.85605495, 0.85697435,\n",
       "        0.85780753, 0.85835977, 0.85887928, 0.85922922, 0.85912205,\n",
       "        0.85920871, 0.85921342, 0.85921342, 0.85921342, 0.85921342]),\n",
       " 'std_train_score': array([1.36546719e-02, 1.81124811e-01, 7.92704366e-02, 6.81741007e-02,\n",
       "        7.18283007e-02, 4.37250840e-02, 5.71733372e-02, 5.12716343e-02,\n",
       "        5.86781732e-02, 4.41988421e-02, 5.17130012e-02, 2.01817037e-02,\n",
       "        2.90882142e-02, 4.77375587e-02, 5.75261865e-02, 3.10411158e-02,\n",
       "        4.55049480e-02, 5.50110788e-02, 5.28715130e-02, 3.42598180e-03,\n",
       "        2.59204208e-03, 2.97299207e-03, 2.08305488e-03, 4.17846135e-04,\n",
       "        2.00794453e-04, 3.88794273e-04, 5.88768509e-05, 8.79631991e-05,\n",
       "        1.51981928e-04, 9.00222759e-05, 1.34349770e-04, 8.24551179e-05,\n",
       "        6.69224536e-05, 5.99351265e-05, 9.14481727e-05, 5.50748191e-05,\n",
       "        5.90650478e-05, 5.90650478e-05, 3.98321815e-03, 3.75453586e-03,\n",
       "        2.26982875e-03, 3.00246478e-03, 2.93627359e-03, 1.72979069e-03,\n",
       "        1.94008283e-03, 1.19515302e-03, 1.35584954e-03, 1.14052354e-03,\n",
       "        1.48694133e-03, 1.64209324e-03, 1.46594047e-03, 1.37471674e-03,\n",
       "        1.66160790e-03, 1.31062083e-03, 1.29057554e-03, 1.72734197e-03,\n",
       "        1.35396894e-03, 3.05214076e-03, 4.04798263e-03, 3.62028667e-03,\n",
       "        2.81533481e-03, 3.24100465e-03, 2.59938382e-03, 2.55547896e-03,\n",
       "        2.66097298e-03, 2.65051962e-03, 2.32661502e-03, 2.31459250e-03,\n",
       "        1.86345759e-03, 2.57647926e-03, 2.36282107e-03, 3.21260600e-03,\n",
       "        2.48617913e-03, 2.22422728e-03, 2.25177364e-03, 2.36477579e-03,\n",
       "        4.39960771e-03, 7.00822124e-03, 5.73653816e-03, 5.23003842e-03,\n",
       "        4.41383538e-03, 4.27581786e-03, 3.68475774e-03, 2.87339940e-03,\n",
       "        2.51638368e-03, 2.15092429e-03, 1.92676205e-03, 2.14301562e-03,\n",
       "        2.02898823e-03, 2.12461038e-03, 2.01463632e-03, 2.01801729e-03,\n",
       "        2.01801729e-03, 2.01801729e-03, 2.01801729e-03])}"
      ]
     },
     "execution_count": 57,
     "metadata": {},
     "output_type": "execute_result"
    }
   ],
   "source": [
    "gcv.cv_results_"
   ]
  },
  {
   "cell_type": "code",
   "execution_count": 58,
   "metadata": {},
   "outputs": [],
   "source": [
    "# train_score = gcv.cv_results_['mean_train_score']\n",
    "# test_score = gcv.cv_results_['mean_test_score']\n"
   ]
  },
  {
   "cell_type": "code",
   "execution_count": 59,
   "metadata": {},
   "outputs": [],
   "source": [
    "# plt.plot(train_score)\n",
    "# plt.plot(test_score)\n",
    "# plt.xticks(range(0, len(gcv.param_grid['max_depth'])), list(gcv.param_grid['max_depth']))"
   ]
  },
  {
   "cell_type": "code",
   "execution_count": 60,
   "metadata": {},
   "outputs": [],
   "source": [
    "pred_list = {}\n",
    "pred_list['lgb'] = gcv.predict_proba(X)[:,1]\n"
   ]
  },
  {
   "cell_type": "code",
   "execution_count": 61,
   "metadata": {},
   "outputs": [
    {
     "data": {
      "text/plain": [
       "array([0.04863522, 0.00676828, 0.06531124, ..., 0.02227663, 0.04931018,\n",
       "       0.67114398])"
      ]
     },
     "execution_count": 61,
     "metadata": {},
     "output_type": "execute_result"
    }
   ],
   "source": [
    "y_pred = gcv.predict_proba(X_test)[:,1]\n",
    "y_pred"
   ]
  },
  {
   "cell_type": "code",
   "execution_count": 62,
   "metadata": {},
   "outputs": [
    {
     "data": {
      "text/plain": [
       "0.8456841121038058"
      ]
     },
     "execution_count": 62,
     "metadata": {},
     "output_type": "execute_result"
    }
   ],
   "source": [
    "roc_auc_score(y_test, y_pred)\n",
    "# 0.8456841121038058"
   ]
  },
  {
   "cell_type": "code",
   "execution_count": null,
   "metadata": {},
   "outputs": [],
   "source": [
    "pred_list_test = {}\n",
    "pred_list_test['lgb'] = y_pred"
   ]
  },
  {
   "cell_type": "markdown",
   "metadata": {},
   "source": [
    "## XGBoost"
   ]
  },
  {
   "cell_type": "code",
   "execution_count": null,
   "metadata": {},
   "outputs": [],
   "source": [
    "parameters = {\n",
    "    \"learning_rate\":[0.1,0.3,0.5],\n",
    "    \"max_depth\": [2,3,5,10],\n",
    "     \"subsample\":[0.5,0.8,0.9,1],\n",
    "     \"colsample_bytree\": [0.5,1.0],    \n",
    "}"
   ]
  },
  {
   "cell_type": "code",
   "execution_count": null,
   "metadata": {},
   "outputs": [],
   "source": [
    "xgb = XGBClassifier()\n",
    "\n",
    "gcv2 = GridSearchCV(xgb, parameters, cv=5, scoring=\"roc_auc\", n_jobs=-1, return_train_score=True)\n",
    "gcv2.fit(X, y)\n"
   ]
  },
  {
   "cell_type": "code",
   "execution_count": null,
   "metadata": {},
   "outputs": [],
   "source": [
    "gcv2.best_params_"
   ]
  },
  {
   "cell_type": "code",
   "execution_count": null,
   "metadata": {},
   "outputs": [],
   "source": [
    "train_score = gcv2.cv_results_['mean_train_score']\n",
    "test_score = gcv2.cv_results_['mean_test_score']\n",
    "\n",
    "plt.plot(train_score)\n",
    "plt.plot(test_score)\n",
    "plt.xticks(range(0, len(gcv2.param_grid['max_depth'])), list(gcv2.param_grid['max_depth']))"
   ]
  },
  {
   "cell_type": "code",
   "execution_count": null,
   "metadata": {},
   "outputs": [],
   "source": [
    "pred_list['xgb'] = gcv2.predict_proba(X)[:,1]"
   ]
  },
  {
   "cell_type": "code",
   "execution_count": null,
   "metadata": {},
   "outputs": [],
   "source": [
    "y_pred2 = gcv2.predict_proba(X_test)[:,1]\n",
    "y_pred2"
   ]
  },
  {
   "cell_type": "code",
   "execution_count": null,
   "metadata": {},
   "outputs": [],
   "source": [
    "roc_auc_score(y_test, y_pred2)\n",
    "# 0.8465594251123711"
   ]
  },
  {
   "cell_type": "code",
   "execution_count": null,
   "metadata": {},
   "outputs": [],
   "source": [
    "pred_list_test['xgb'] = y_pred2"
   ]
  },
  {
   "cell_type": "markdown",
   "metadata": {},
   "source": [
    "## LogisticRegression"
   ]
  },
  {
   "cell_type": "code",
   "execution_count": 34,
   "metadata": {},
   "outputs": [
    {
     "data": {
      "text/plain": [
       "LogisticRegression()"
      ]
     },
     "execution_count": 34,
     "metadata": {},
     "output_type": "execute_result"
    }
   ],
   "source": [
    "gcv3 = LogisticRegression()\n",
    "\n",
    "gcv3.fit(X, y)\n"
   ]
  },
  {
   "cell_type": "code",
   "execution_count": 35,
   "metadata": {},
   "outputs": [
    {
     "data": {
      "text/plain": [
       "{'lgb': array([0.0028839 , 0.01606278, 0.41616227, ..., 0.04773298, 0.02606361,\n",
       "        0.03094729]),\n",
       " 'xgb': array([0.00620427, 0.01752201, 0.21365789, ..., 0.17379753, 0.04019759,\n",
       "        0.02910096], dtype=float32),\n",
       " 'logistic': array([0.03765994, 0.03348983, 0.27168502, ..., 0.17384506, 0.01905472,\n",
       "        0.04958183])}"
      ]
     },
     "execution_count": 35,
     "metadata": {},
     "output_type": "execute_result"
    }
   ],
   "source": [
    "pred_list['logistic'] = gcv3.predict_proba(X)[:,1]\n",
    "pred_list"
   ]
  },
  {
   "cell_type": "code",
   "execution_count": 36,
   "metadata": {},
   "outputs": [
    {
     "data": {
      "text/plain": [
       "array([0.07579774, 0.031406  , 0.03865054, ..., 0.02315975, 0.02580815,\n",
       "       0.04051947])"
      ]
     },
     "execution_count": 36,
     "metadata": {},
     "output_type": "execute_result"
    }
   ],
   "source": [
    "y_pred3 = gcv3.predict_proba(X_test)[:,1]\n",
    "y_pred3"
   ]
  },
  {
   "cell_type": "code",
   "execution_count": 37,
   "metadata": {},
   "outputs": [
    {
     "data": {
      "text/plain": [
       "0.7605951589804085"
      ]
     },
     "execution_count": 37,
     "metadata": {},
     "output_type": "execute_result"
    }
   ],
   "source": [
    "roc_auc_score(y_test, y_pred3)\n",
    "# 0.7605951589804085"
   ]
  },
  {
   "cell_type": "code",
   "execution_count": 38,
   "metadata": {},
   "outputs": [],
   "source": [
    "pred_list_test['logistic'] = y_pred3"
   ]
  },
  {
   "cell_type": "markdown",
   "metadata": {},
   "source": [
    "## Random Forest"
   ]
  },
  {
   "cell_type": "code",
   "execution_count": 39,
   "metadata": {},
   "outputs": [],
   "source": [
    "parameters = {\n",
    "    'max_depth': list(range(1, 20)),\n",
    "    'max_features': [1, 2, 3, 4, 5, 7, 10],\n",
    "}"
   ]
  },
  {
   "cell_type": "code",
   "execution_count": 40,
   "metadata": {},
   "outputs": [
    {
     "ename": "KeyboardInterrupt",
     "evalue": "",
     "output_type": "error",
     "traceback": [
      "\u001b[1;31m---------------------------------------------------------------------------\u001b[0m",
      "\u001b[1;31mKeyboardInterrupt\u001b[0m                         Traceback (most recent call last)",
      "\u001b[1;32m<ipython-input-40-9718f90c49c1>\u001b[0m in \u001b[0;36m<module>\u001b[1;34m\u001b[0m\n\u001b[0;32m      2\u001b[0m \u001b[1;33m\u001b[0m\u001b[0m\n\u001b[0;32m      3\u001b[0m \u001b[0mgcv4\u001b[0m \u001b[1;33m=\u001b[0m \u001b[0mGridSearchCV\u001b[0m\u001b[1;33m(\u001b[0m\u001b[0mrf\u001b[0m\u001b[1;33m,\u001b[0m \u001b[0mparameters\u001b[0m\u001b[1;33m,\u001b[0m \u001b[0mcv\u001b[0m\u001b[1;33m=\u001b[0m\u001b[1;36m5\u001b[0m\u001b[1;33m,\u001b[0m \u001b[0mscoring\u001b[0m\u001b[1;33m=\u001b[0m\u001b[1;34m\"roc_auc\"\u001b[0m\u001b[1;33m,\u001b[0m \u001b[0mn_jobs\u001b[0m\u001b[1;33m=\u001b[0m\u001b[1;33m-\u001b[0m\u001b[1;36m1\u001b[0m\u001b[1;33m,\u001b[0m \u001b[0mreturn_train_score\u001b[0m\u001b[1;33m=\u001b[0m\u001b[1;32mTrue\u001b[0m\u001b[1;33m)\u001b[0m\u001b[1;33m\u001b[0m\u001b[1;33m\u001b[0m\u001b[0m\n\u001b[1;32m----> 4\u001b[1;33m \u001b[0mgcv4\u001b[0m\u001b[1;33m.\u001b[0m\u001b[0mfit\u001b[0m\u001b[1;33m(\u001b[0m\u001b[0mX\u001b[0m\u001b[1;33m,\u001b[0m \u001b[0my\u001b[0m\u001b[1;33m)\u001b[0m\u001b[1;33m\u001b[0m\u001b[1;33m\u001b[0m\u001b[0m\n\u001b[0m",
      "\u001b[1;32mD:\\anaconda3\\lib\\site-packages\\sklearn\\utils\\validation.py\u001b[0m in \u001b[0;36minner_f\u001b[1;34m(*args, **kwargs)\u001b[0m\n\u001b[0;32m     70\u001b[0m                           FutureWarning)\n\u001b[0;32m     71\u001b[0m         \u001b[0mkwargs\u001b[0m\u001b[1;33m.\u001b[0m\u001b[0mupdate\u001b[0m\u001b[1;33m(\u001b[0m\u001b[1;33m{\u001b[0m\u001b[0mk\u001b[0m\u001b[1;33m:\u001b[0m \u001b[0marg\u001b[0m \u001b[1;32mfor\u001b[0m \u001b[0mk\u001b[0m\u001b[1;33m,\u001b[0m \u001b[0marg\u001b[0m \u001b[1;32min\u001b[0m \u001b[0mzip\u001b[0m\u001b[1;33m(\u001b[0m\u001b[0msig\u001b[0m\u001b[1;33m.\u001b[0m\u001b[0mparameters\u001b[0m\u001b[1;33m,\u001b[0m \u001b[0margs\u001b[0m\u001b[1;33m)\u001b[0m\u001b[1;33m}\u001b[0m\u001b[1;33m)\u001b[0m\u001b[1;33m\u001b[0m\u001b[1;33m\u001b[0m\u001b[0m\n\u001b[1;32m---> 72\u001b[1;33m         \u001b[1;32mreturn\u001b[0m \u001b[0mf\u001b[0m\u001b[1;33m(\u001b[0m\u001b[1;33m**\u001b[0m\u001b[0mkwargs\u001b[0m\u001b[1;33m)\u001b[0m\u001b[1;33m\u001b[0m\u001b[1;33m\u001b[0m\u001b[0m\n\u001b[0m\u001b[0;32m     73\u001b[0m     \u001b[1;32mreturn\u001b[0m \u001b[0minner_f\u001b[0m\u001b[1;33m\u001b[0m\u001b[1;33m\u001b[0m\u001b[0m\n\u001b[0;32m     74\u001b[0m \u001b[1;33m\u001b[0m\u001b[0m\n",
      "\u001b[1;32mD:\\anaconda3\\lib\\site-packages\\sklearn\\model_selection\\_search.py\u001b[0m in \u001b[0;36mfit\u001b[1;34m(self, X, y, groups, **fit_params)\u001b[0m\n\u001b[0;32m    734\u001b[0m                 \u001b[1;32mreturn\u001b[0m \u001b[0mresults\u001b[0m\u001b[1;33m\u001b[0m\u001b[1;33m\u001b[0m\u001b[0m\n\u001b[0;32m    735\u001b[0m \u001b[1;33m\u001b[0m\u001b[0m\n\u001b[1;32m--> 736\u001b[1;33m             \u001b[0mself\u001b[0m\u001b[1;33m.\u001b[0m\u001b[0m_run_search\u001b[0m\u001b[1;33m(\u001b[0m\u001b[0mevaluate_candidates\u001b[0m\u001b[1;33m)\u001b[0m\u001b[1;33m\u001b[0m\u001b[1;33m\u001b[0m\u001b[0m\n\u001b[0m\u001b[0;32m    737\u001b[0m \u001b[1;33m\u001b[0m\u001b[0m\n\u001b[0;32m    738\u001b[0m         \u001b[1;31m# For multi-metric evaluation, store the best_index_, best_params_ and\u001b[0m\u001b[1;33m\u001b[0m\u001b[1;33m\u001b[0m\u001b[1;33m\u001b[0m\u001b[0m\n",
      "\u001b[1;32mD:\\anaconda3\\lib\\site-packages\\sklearn\\model_selection\\_search.py\u001b[0m in \u001b[0;36m_run_search\u001b[1;34m(self, evaluate_candidates)\u001b[0m\n\u001b[0;32m   1186\u001b[0m     \u001b[1;32mdef\u001b[0m \u001b[0m_run_search\u001b[0m\u001b[1;33m(\u001b[0m\u001b[0mself\u001b[0m\u001b[1;33m,\u001b[0m \u001b[0mevaluate_candidates\u001b[0m\u001b[1;33m)\u001b[0m\u001b[1;33m:\u001b[0m\u001b[1;33m\u001b[0m\u001b[1;33m\u001b[0m\u001b[0m\n\u001b[0;32m   1187\u001b[0m         \u001b[1;34m\"\"\"Search all candidates in param_grid\"\"\"\u001b[0m\u001b[1;33m\u001b[0m\u001b[1;33m\u001b[0m\u001b[0m\n\u001b[1;32m-> 1188\u001b[1;33m         \u001b[0mevaluate_candidates\u001b[0m\u001b[1;33m(\u001b[0m\u001b[0mParameterGrid\u001b[0m\u001b[1;33m(\u001b[0m\u001b[0mself\u001b[0m\u001b[1;33m.\u001b[0m\u001b[0mparam_grid\u001b[0m\u001b[1;33m)\u001b[0m\u001b[1;33m)\u001b[0m\u001b[1;33m\u001b[0m\u001b[1;33m\u001b[0m\u001b[0m\n\u001b[0m\u001b[0;32m   1189\u001b[0m \u001b[1;33m\u001b[0m\u001b[0m\n\u001b[0;32m   1190\u001b[0m \u001b[1;33m\u001b[0m\u001b[0m\n",
      "\u001b[1;32mD:\\anaconda3\\lib\\site-packages\\sklearn\\model_selection\\_search.py\u001b[0m in \u001b[0;36mevaluate_candidates\u001b[1;34m(candidate_params)\u001b[0m\n\u001b[0;32m    713\u001b[0m                                \u001b[1;32mfor\u001b[0m \u001b[0mparameters\u001b[0m\u001b[1;33m,\u001b[0m \u001b[1;33m(\u001b[0m\u001b[0mtrain\u001b[0m\u001b[1;33m,\u001b[0m \u001b[0mtest\u001b[0m\u001b[1;33m)\u001b[0m\u001b[1;33m\u001b[0m\u001b[1;33m\u001b[0m\u001b[0m\n\u001b[0;32m    714\u001b[0m                                in product(candidate_params,\n\u001b[1;32m--> 715\u001b[1;33m                                           cv.split(X, y, groups)))\n\u001b[0m\u001b[0;32m    716\u001b[0m \u001b[1;33m\u001b[0m\u001b[0m\n\u001b[0;32m    717\u001b[0m                 \u001b[1;32mif\u001b[0m \u001b[0mlen\u001b[0m\u001b[1;33m(\u001b[0m\u001b[0mout\u001b[0m\u001b[1;33m)\u001b[0m \u001b[1;33m<\u001b[0m \u001b[1;36m1\u001b[0m\u001b[1;33m:\u001b[0m\u001b[1;33m\u001b[0m\u001b[1;33m\u001b[0m\u001b[0m\n",
      "\u001b[1;32mD:\\anaconda3\\lib\\site-packages\\joblib\\parallel.py\u001b[0m in \u001b[0;36m__call__\u001b[1;34m(self, iterable)\u001b[0m\n\u001b[0;32m   1015\u001b[0m \u001b[1;33m\u001b[0m\u001b[0m\n\u001b[0;32m   1016\u001b[0m             \u001b[1;32mwith\u001b[0m \u001b[0mself\u001b[0m\u001b[1;33m.\u001b[0m\u001b[0m_backend\u001b[0m\u001b[1;33m.\u001b[0m\u001b[0mretrieval_context\u001b[0m\u001b[1;33m(\u001b[0m\u001b[1;33m)\u001b[0m\u001b[1;33m:\u001b[0m\u001b[1;33m\u001b[0m\u001b[1;33m\u001b[0m\u001b[0m\n\u001b[1;32m-> 1017\u001b[1;33m                 \u001b[0mself\u001b[0m\u001b[1;33m.\u001b[0m\u001b[0mretrieve\u001b[0m\u001b[1;33m(\u001b[0m\u001b[1;33m)\u001b[0m\u001b[1;33m\u001b[0m\u001b[1;33m\u001b[0m\u001b[0m\n\u001b[0m\u001b[0;32m   1018\u001b[0m             \u001b[1;31m# Make sure that we get a last message telling us we are done\u001b[0m\u001b[1;33m\u001b[0m\u001b[1;33m\u001b[0m\u001b[1;33m\u001b[0m\u001b[0m\n\u001b[0;32m   1019\u001b[0m             \u001b[0melapsed_time\u001b[0m \u001b[1;33m=\u001b[0m \u001b[0mtime\u001b[0m\u001b[1;33m.\u001b[0m\u001b[0mtime\u001b[0m\u001b[1;33m(\u001b[0m\u001b[1;33m)\u001b[0m \u001b[1;33m-\u001b[0m \u001b[0mself\u001b[0m\u001b[1;33m.\u001b[0m\u001b[0m_start_time\u001b[0m\u001b[1;33m\u001b[0m\u001b[1;33m\u001b[0m\u001b[0m\n",
      "\u001b[1;32mD:\\anaconda3\\lib\\site-packages\\joblib\\parallel.py\u001b[0m in \u001b[0;36mretrieve\u001b[1;34m(self)\u001b[0m\n\u001b[0;32m    907\u001b[0m             \u001b[1;32mtry\u001b[0m\u001b[1;33m:\u001b[0m\u001b[1;33m\u001b[0m\u001b[1;33m\u001b[0m\u001b[0m\n\u001b[0;32m    908\u001b[0m                 \u001b[1;32mif\u001b[0m \u001b[0mgetattr\u001b[0m\u001b[1;33m(\u001b[0m\u001b[0mself\u001b[0m\u001b[1;33m.\u001b[0m\u001b[0m_backend\u001b[0m\u001b[1;33m,\u001b[0m \u001b[1;34m'supports_timeout'\u001b[0m\u001b[1;33m,\u001b[0m \u001b[1;32mFalse\u001b[0m\u001b[1;33m)\u001b[0m\u001b[1;33m:\u001b[0m\u001b[1;33m\u001b[0m\u001b[1;33m\u001b[0m\u001b[0m\n\u001b[1;32m--> 909\u001b[1;33m                     \u001b[0mself\u001b[0m\u001b[1;33m.\u001b[0m\u001b[0m_output\u001b[0m\u001b[1;33m.\u001b[0m\u001b[0mextend\u001b[0m\u001b[1;33m(\u001b[0m\u001b[0mjob\u001b[0m\u001b[1;33m.\u001b[0m\u001b[0mget\u001b[0m\u001b[1;33m(\u001b[0m\u001b[0mtimeout\u001b[0m\u001b[1;33m=\u001b[0m\u001b[0mself\u001b[0m\u001b[1;33m.\u001b[0m\u001b[0mtimeout\u001b[0m\u001b[1;33m)\u001b[0m\u001b[1;33m)\u001b[0m\u001b[1;33m\u001b[0m\u001b[1;33m\u001b[0m\u001b[0m\n\u001b[0m\u001b[0;32m    910\u001b[0m                 \u001b[1;32melse\u001b[0m\u001b[1;33m:\u001b[0m\u001b[1;33m\u001b[0m\u001b[1;33m\u001b[0m\u001b[0m\n\u001b[0;32m    911\u001b[0m                     \u001b[0mself\u001b[0m\u001b[1;33m.\u001b[0m\u001b[0m_output\u001b[0m\u001b[1;33m.\u001b[0m\u001b[0mextend\u001b[0m\u001b[1;33m(\u001b[0m\u001b[0mjob\u001b[0m\u001b[1;33m.\u001b[0m\u001b[0mget\u001b[0m\u001b[1;33m(\u001b[0m\u001b[1;33m)\u001b[0m\u001b[1;33m)\u001b[0m\u001b[1;33m\u001b[0m\u001b[1;33m\u001b[0m\u001b[0m\n",
      "\u001b[1;32mD:\\anaconda3\\lib\\site-packages\\joblib\\_parallel_backends.py\u001b[0m in \u001b[0;36mwrap_future_result\u001b[1;34m(future, timeout)\u001b[0m\n\u001b[0;32m    560\u001b[0m         AsyncResults.get from multiprocessing.\"\"\"\n\u001b[0;32m    561\u001b[0m         \u001b[1;32mtry\u001b[0m\u001b[1;33m:\u001b[0m\u001b[1;33m\u001b[0m\u001b[1;33m\u001b[0m\u001b[0m\n\u001b[1;32m--> 562\u001b[1;33m             \u001b[1;32mreturn\u001b[0m \u001b[0mfuture\u001b[0m\u001b[1;33m.\u001b[0m\u001b[0mresult\u001b[0m\u001b[1;33m(\u001b[0m\u001b[0mtimeout\u001b[0m\u001b[1;33m=\u001b[0m\u001b[0mtimeout\u001b[0m\u001b[1;33m)\u001b[0m\u001b[1;33m\u001b[0m\u001b[1;33m\u001b[0m\u001b[0m\n\u001b[0m\u001b[0;32m    563\u001b[0m         \u001b[1;32mexcept\u001b[0m \u001b[0mLokyTimeoutError\u001b[0m\u001b[1;33m:\u001b[0m\u001b[1;33m\u001b[0m\u001b[1;33m\u001b[0m\u001b[0m\n\u001b[0;32m    564\u001b[0m             \u001b[1;32mraise\u001b[0m \u001b[0mTimeoutError\u001b[0m\u001b[1;33m(\u001b[0m\u001b[1;33m)\u001b[0m\u001b[1;33m\u001b[0m\u001b[1;33m\u001b[0m\u001b[0m\n",
      "\u001b[1;32mD:\\anaconda3\\lib\\concurrent\\futures\\_base.py\u001b[0m in \u001b[0;36mresult\u001b[1;34m(self, timeout)\u001b[0m\n\u001b[0;32m    428\u001b[0m                 \u001b[1;32mreturn\u001b[0m \u001b[0mself\u001b[0m\u001b[1;33m.\u001b[0m\u001b[0m__get_result\u001b[0m\u001b[1;33m(\u001b[0m\u001b[1;33m)\u001b[0m\u001b[1;33m\u001b[0m\u001b[1;33m\u001b[0m\u001b[0m\n\u001b[0;32m    429\u001b[0m \u001b[1;33m\u001b[0m\u001b[0m\n\u001b[1;32m--> 430\u001b[1;33m             \u001b[0mself\u001b[0m\u001b[1;33m.\u001b[0m\u001b[0m_condition\u001b[0m\u001b[1;33m.\u001b[0m\u001b[0mwait\u001b[0m\u001b[1;33m(\u001b[0m\u001b[0mtimeout\u001b[0m\u001b[1;33m)\u001b[0m\u001b[1;33m\u001b[0m\u001b[1;33m\u001b[0m\u001b[0m\n\u001b[0m\u001b[0;32m    431\u001b[0m \u001b[1;33m\u001b[0m\u001b[0m\n\u001b[0;32m    432\u001b[0m             \u001b[1;32mif\u001b[0m \u001b[0mself\u001b[0m\u001b[1;33m.\u001b[0m\u001b[0m_state\u001b[0m \u001b[1;32min\u001b[0m \u001b[1;33m[\u001b[0m\u001b[0mCANCELLED\u001b[0m\u001b[1;33m,\u001b[0m \u001b[0mCANCELLED_AND_NOTIFIED\u001b[0m\u001b[1;33m]\u001b[0m\u001b[1;33m:\u001b[0m\u001b[1;33m\u001b[0m\u001b[1;33m\u001b[0m\u001b[0m\n",
      "\u001b[1;32mD:\\anaconda3\\lib\\threading.py\u001b[0m in \u001b[0;36mwait\u001b[1;34m(self, timeout)\u001b[0m\n\u001b[0;32m    294\u001b[0m         \u001b[1;32mtry\u001b[0m\u001b[1;33m:\u001b[0m    \u001b[1;31m# restore state no matter what (e.g., KeyboardInterrupt)\u001b[0m\u001b[1;33m\u001b[0m\u001b[1;33m\u001b[0m\u001b[0m\n\u001b[0;32m    295\u001b[0m             \u001b[1;32mif\u001b[0m \u001b[0mtimeout\u001b[0m \u001b[1;32mis\u001b[0m \u001b[1;32mNone\u001b[0m\u001b[1;33m:\u001b[0m\u001b[1;33m\u001b[0m\u001b[1;33m\u001b[0m\u001b[0m\n\u001b[1;32m--> 296\u001b[1;33m                 \u001b[0mwaiter\u001b[0m\u001b[1;33m.\u001b[0m\u001b[0macquire\u001b[0m\u001b[1;33m(\u001b[0m\u001b[1;33m)\u001b[0m\u001b[1;33m\u001b[0m\u001b[1;33m\u001b[0m\u001b[0m\n\u001b[0m\u001b[0;32m    297\u001b[0m                 \u001b[0mgotit\u001b[0m \u001b[1;33m=\u001b[0m \u001b[1;32mTrue\u001b[0m\u001b[1;33m\u001b[0m\u001b[1;33m\u001b[0m\u001b[0m\n\u001b[0;32m    298\u001b[0m             \u001b[1;32melse\u001b[0m\u001b[1;33m:\u001b[0m\u001b[1;33m\u001b[0m\u001b[1;33m\u001b[0m\u001b[0m\n",
      "\u001b[1;31mKeyboardInterrupt\u001b[0m: "
     ]
    }
   ],
   "source": [
    "rf = RandomForestClassifier()\n",
    "\n",
    "gcv4 = GridSearchCV(rf, parameters, cv=5, scoring=\"roc_auc\", n_jobs=-1, return_train_score=True)\n",
    "gcv4.fit(X, y)\n"
   ]
  },
  {
   "cell_type": "code",
   "execution_count": null,
   "metadata": {},
   "outputs": [],
   "source": [
    "gcv4.best_params_"
   ]
  },
  {
   "cell_type": "code",
   "execution_count": null,
   "metadata": {},
   "outputs": [],
   "source": [
    "train_score = gcv4.cv_results_['mean_train_score']\n",
    "test_score = gcv4.cv_results_['mean_test_score']\n",
    "\n",
    "plt.plot(train_score)\n",
    "plt.plot(test_score)\n",
    "plt.xticks(range(0, len(gcv4.param_grid['max_depth'])), list(gcv4.param_grid['max_depth']))"
   ]
  },
  {
   "cell_type": "code",
   "execution_count": null,
   "metadata": {},
   "outputs": [],
   "source": [
    "pred_list['rf'] = gcv4.predict_proba(X)[:,1]"
   ]
  },
  {
   "cell_type": "code",
   "execution_count": null,
   "metadata": {},
   "outputs": [],
   "source": [
    "y_pred4 = gcv4.predict_proba(X_test)[:,1]\n",
    "y_pred4"
   ]
  },
  {
   "cell_type": "code",
   "execution_count": null,
   "metadata": {},
   "outputs": [],
   "source": [
    "roc_auc_score(y_test, y_pred4)\n",
    "# 0.8195972033973815"
   ]
  },
  {
   "cell_type": "code",
   "execution_count": null,
   "metadata": {},
   "outputs": [],
   "source": [
    "pred_list_test['rf'] = y_pred4"
   ]
  },
  {
   "cell_type": "markdown",
   "metadata": {},
   "source": [
    "## Desicion Tree"
   ]
  },
  {
   "cell_type": "code",
   "execution_count": null,
   "metadata": {},
   "outputs": [],
   "source": [
    "parameters = {\n",
    "    'max_depth': list(range(1, 20)),\n",
    "}"
   ]
  },
  {
   "cell_type": "code",
   "execution_count": null,
   "metadata": {},
   "outputs": [],
   "source": [
    "dt = DecisionTreeClassifier()\n",
    "\n",
    "gcv5 = GridSearchCV(dt, parameters, cv=5, scoring=\"roc_auc\", n_jobs=-1, return_train_score=True)\n",
    "gcv5.fit(X, y)\n"
   ]
  },
  {
   "cell_type": "code",
   "execution_count": null,
   "metadata": {},
   "outputs": [],
   "source": [
    "gcv5.best_params_"
   ]
  },
  {
   "cell_type": "code",
   "execution_count": null,
   "metadata": {},
   "outputs": [],
   "source": [
    "train_score = gcv5.cv_results_['mean_train_score']\n",
    "test_score = gcv5.cv_results_['mean_test_score']\n",
    "\n",
    "plt.plot(train_score)\n",
    "plt.plot(test_score)\n",
    "plt.xticks(range(0, len(gcv5.param_grid['max_depth'])), list(gcv5.param_grid['max_depth']))"
   ]
  },
  {
   "cell_type": "code",
   "execution_count": null,
   "metadata": {},
   "outputs": [],
   "source": [
    "pred_list['dt'] = gcv5.predict_proba(X)[:,1]"
   ]
  },
  {
   "cell_type": "code",
   "execution_count": null,
   "metadata": {},
   "outputs": [],
   "source": [
    "y_pred5 = gcv5.predict_proba(X_test)[:,1]\n",
    "y_pred5"
   ]
  },
  {
   "cell_type": "code",
   "execution_count": null,
   "metadata": {},
   "outputs": [],
   "source": [
    "roc_auc_score(y_test, y_pred5)\n",
    "# 0.765314891610439"
   ]
  },
  {
   "cell_type": "code",
   "execution_count": null,
   "metadata": {},
   "outputs": [],
   "source": [
    "pred_list_test['dt'] = y_pred5"
   ]
  },
  {
   "cell_type": "markdown",
   "metadata": {},
   "source": [
    "## Stacking(Random Forest)"
   ]
  },
  {
   "cell_type": "code",
   "execution_count": null,
   "metadata": {},
   "outputs": [],
   "source": [
    "# sel_col = ['lgb', 'xgb', 'logistic', 'rf', 'dt']\n",
    "\n",
    "sel_col = ['lgb', 'xgb', 'rf']"
   ]
  },
  {
   "cell_type": "code",
   "execution_count": null,
   "metadata": {},
   "outputs": [],
   "source": [
    "pred_df = pd.DataFrame(pred_list)\n",
    "pred_df[sel_col]"
   ]
  },
  {
   "cell_type": "code",
   "execution_count": null,
   "metadata": {},
   "outputs": [],
   "source": [
    "pred_df_test = pd.DataFrame(pred_list_test)\n",
    "pred_df_test[sel_col]"
   ]
  },
  {
   "cell_type": "markdown",
   "metadata": {},
   "source": [
    "### RandomForest"
   ]
  },
  {
   "cell_type": "code",
   "execution_count": null,
   "metadata": {},
   "outputs": [],
   "source": [
    "parameters = {\n",
    "    'max_depth': list(range(1, 20)),\n",
    "    'max_features': [1, 2, 3, 4, 5, 7, 10],\n",
    "}"
   ]
  },
  {
   "cell_type": "code",
   "execution_count": null,
   "metadata": {},
   "outputs": [],
   "source": [
    "gcv_st1 = GridSearchCV(rf, parameters, cv=5, scoring=\"roc_auc\", n_jobs=-1, return_train_score=True)\n",
    "gcv_st1.fit(pred_df[sel_col], y)"
   ]
  },
  {
   "cell_type": "code",
   "execution_count": null,
   "metadata": {},
   "outputs": [],
   "source": [
    "y_pred_st1 = gcv_st1.predict_proba(pred_df_test[sel_col])[:,1]\n",
    "y_pred_st1"
   ]
  },
  {
   "cell_type": "code",
   "execution_count": null,
   "metadata": {},
   "outputs": [],
   "source": [
    "roc_auc_score(y_test, y_pred_st1)"
   ]
  },
  {
   "cell_type": "markdown",
   "metadata": {},
   "source": [
    "### LightGBM"
   ]
  },
  {
   "cell_type": "code",
   "execution_count": null,
   "metadata": {},
   "outputs": [],
   "source": [
    "parameters = {\n",
    "    'max_depth': list(range(1, 20)),\n",
    "    'feature_fraction': [1, 2, 3, 4, 5, 7, 10],\n",
    "}"
   ]
  },
  {
   "cell_type": "code",
   "execution_count": null,
   "metadata": {},
   "outputs": [],
   "source": [
    "gcv_st2 = GridSearchCV(lgb, parameters, cv=5, scoring=\"roc_auc\", n_jobs=-1, return_train_score=True)\n",
    "gcv_st2.fit(pred_df[sel_col], y)"
   ]
  },
  {
   "cell_type": "code",
   "execution_count": null,
   "metadata": {},
   "outputs": [],
   "source": [
    "y_pred_st2 = gcv_st2.predict_proba(pred_df_test[sel_col])[:,1]\n",
    "y_pred_st2"
   ]
  },
  {
   "cell_type": "code",
   "execution_count": null,
   "metadata": {},
   "outputs": [],
   "source": [
    "roc_auc_score(y_test, y_pred_st2)"
   ]
  },
  {
   "cell_type": "markdown",
   "metadata": {},
   "source": [
    "### XGBoost"
   ]
  },
  {
   "cell_type": "code",
   "execution_count": null,
   "metadata": {},
   "outputs": [],
   "source": [
    "parameters = {\n",
    "    'max_depth': list(range(1, 20)),\n",
    "    'colsample_bytree': [1, 2, 3, 4, 5, 7, 10],\n",
    "}"
   ]
  },
  {
   "cell_type": "code",
   "execution_count": null,
   "metadata": {},
   "outputs": [],
   "source": [
    "gcv_st3 = GridSearchCV(xgb, parameters, cv=5, scoring=\"roc_auc\", n_jobs=-1, return_train_score=True)\n",
    "gcv_st3.fit(pred_df[sel_col], y)"
   ]
  },
  {
   "cell_type": "code",
   "execution_count": null,
   "metadata": {},
   "outputs": [],
   "source": [
    "y_pred_st3 = gcv_st3.predict_proba(pred_df_test[sel_col])[:,1]\n",
    "y_pred_st3"
   ]
  },
  {
   "cell_type": "code",
   "execution_count": null,
   "metadata": {},
   "outputs": [],
   "source": [
    "roc_auc_score(y_test, y_pred_st3)"
   ]
  },
  {
   "cell_type": "code",
   "execution_count": null,
   "metadata": {},
   "outputs": [],
   "source": []
  },
  {
   "cell_type": "code",
   "execution_count": null,
   "metadata": {},
   "outputs": [],
   "source": []
  },
  {
   "cell_type": "code",
   "execution_count": null,
   "metadata": {},
   "outputs": [],
   "source": []
  },
  {
   "cell_type": "code",
   "execution_count": null,
   "metadata": {},
   "outputs": [],
   "source": []
  },
  {
   "cell_type": "code",
   "execution_count": null,
   "metadata": {},
   "outputs": [],
   "source": []
  },
  {
   "cell_type": "code",
   "execution_count": null,
   "metadata": {},
   "outputs": [],
   "source": []
  },
  {
   "cell_type": "code",
   "execution_count": null,
   "metadata": {},
   "outputs": [],
   "source": []
  },
  {
   "cell_type": "code",
   "execution_count": null,
   "metadata": {},
   "outputs": [],
   "source": []
  },
  {
   "cell_type": "code",
   "execution_count": null,
   "metadata": {},
   "outputs": [],
   "source": []
  },
  {
   "cell_type": "code",
   "execution_count": null,
   "metadata": {},
   "outputs": [],
   "source": []
  },
  {
   "cell_type": "code",
   "execution_count": null,
   "metadata": {},
   "outputs": [],
   "source": []
  },
  {
   "cell_type": "code",
   "execution_count": null,
   "metadata": {},
   "outputs": [],
   "source": []
  },
  {
   "cell_type": "code",
   "execution_count": null,
   "metadata": {},
   "outputs": [],
   "source": []
  },
  {
   "cell_type": "code",
   "execution_count": null,
   "metadata": {},
   "outputs": [],
   "source": []
  },
  {
   "cell_type": "code",
   "execution_count": null,
   "metadata": {},
   "outputs": [],
   "source": []
  },
  {
   "cell_type": "code",
   "execution_count": null,
   "metadata": {},
   "outputs": [],
   "source": []
  },
  {
   "cell_type": "code",
   "execution_count": null,
   "metadata": {},
   "outputs": [],
   "source": []
  },
  {
   "cell_type": "code",
   "execution_count": null,
   "metadata": {},
   "outputs": [],
   "source": []
  },
  {
   "cell_type": "code",
   "execution_count": null,
   "metadata": {},
   "outputs": [],
   "source": []
  },
  {
   "cell_type": "code",
   "execution_count": null,
   "metadata": {},
   "outputs": [],
   "source": []
  },
  {
   "cell_type": "code",
   "execution_count": null,
   "metadata": {},
   "outputs": [],
   "source": []
  },
  {
   "cell_type": "code",
   "execution_count": null,
   "metadata": {},
   "outputs": [],
   "source": []
  },
  {
   "cell_type": "code",
   "execution_count": null,
   "metadata": {},
   "outputs": [],
   "source": []
  },
  {
   "cell_type": "markdown",
   "metadata": {},
   "source": [
    "# Test Data Predict"
   ]
  },
  {
   "cell_type": "code",
   "execution_count": null,
   "metadata": {},
   "outputs": [],
   "source": []
  }
 ],
 "metadata": {
  "kernelspec": {
   "display_name": "Python 3",
   "language": "python",
   "name": "python3"
  },
  "language_info": {
   "codemirror_mode": {
    "name": "ipython",
    "version": 3
   },
   "file_extension": ".py",
   "mimetype": "text/x-python",
   "name": "python",
   "nbconvert_exporter": "python",
   "pygments_lexer": "ipython3",
   "version": "3.7.6"
  }
 },
 "nbformat": 4,
 "nbformat_minor": 4
}
